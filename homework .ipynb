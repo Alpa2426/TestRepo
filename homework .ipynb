{
 "cells": [
  {
   "cell_type": "code",
   "execution_count": 1,
   "id": "12b37065-bccb-474e-8a2b-661839ce11db",
   "metadata": {},
   "outputs": [
    {
     "name": "stdin",
     "output_type": "stream",
     "text": [
      "enter the arithmetic operators,:  *\n",
      "enter the 1st number,:  5\n",
      "enter the 2nd number,:  2\n"
     ]
    },
    {
     "name": "stdout",
     "output_type": "stream",
     "text": [
      "10\n"
     ]
    }
   ],
   "source": [
    "#Flow Control\n",
    "#WAP which takes an arithmetic operators & 2 numbers, as an and do the calculation based on the input operator\n",
    "\n",
    "A= input(\"enter the arithmetic operators,: \")\n",
    "num1=int(input(\"enter the 1st number,: \" ))\n",
    "num2=int(input(\"enter the 2nd number,: \" ))\n",
    "if A == '+':\n",
    "    print(num1 + num2)\n",
    "elif A ==  '-':\n",
    "    print(num1 - num2)\n",
    "elif A == '*':\n",
    "    print(num1 * num2)\n",
    "elif A == '/':\n",
    "    print(num1 / num2)\n",
    "elif A == '//':\n",
    "    print(num1 // num2 )\n",
    "elif A == '%':\n",
    "    print(num1 % num2)\n",
    "else:\n",
    "    print(\"please enter the correct operator.\")\n",
    "\n",
    "\n"
   ]
  },
  {
   "cell_type": "code",
   "execution_count": 1,
   "id": "2b2415cf-4db0-45b6-8176-254d885b6f5e",
   "metadata": {},
   "outputs": [
    {
     "name": "stdin",
     "output_type": "stream",
     "text": [
      "enter the value of breadth : 4\n",
      "enter the value of height : 4\n"
     ]
    },
    {
     "name": "stdout",
     "output_type": "stream",
     "text": [
      "area of triangle 8.0\n"
     ]
    }
   ],
   "source": [
    "#WAP to calculate area of triangle --> 0.5*b*h\n",
    "b= int(input(\"enter the value of breadth :\"))\n",
    "h= int(input(\"enter the value of height :\"))\n",
    "area = 0.5*b*h\n",
    "print(\"area of triangle\",area)"
   ]
  },
  {
   "cell_type": "code",
   "execution_count": 3,
   "id": "9dad9288-742d-420d-a895-5ad2731945d6",
   "metadata": {},
   "outputs": [
    {
     "name": "stdin",
     "output_type": "stream",
     "text": [
      "enter the value of radius : 10\n"
     ]
    },
    {
     "name": "stdout",
     "output_type": "stream",
     "text": [
      "vol of sphere 4186.666666666667\n"
     ]
    }
   ],
   "source": [
    "#WAP to calculate vol of sphere --> (4/3)*3.14*(r**3)\n",
    "r= int(input(\"enter the value of radius :\"))\n",
    "vol= (4/3)*3.14*(r**3)\n",
    "print(\"vol of sphere\", vol)\n"
   ]
  },
  {
   "cell_type": "code",
   "execution_count": 9,
   "id": "b765cf4c-09ea-4cf0-b0e7-a1aab78bc720",
   "metadata": {},
   "outputs": [
    {
     "name": "stdin",
     "output_type": "stream",
     "text": [
      "enter the number : 2013\n"
     ]
    },
    {
     "name": "stdout",
     "output_type": "stream",
     "text": [
      "2013 is not a leap year\n"
     ]
    }
   ],
   "source": [
    "#WAP for check a number is leap year or not by using following constraints-:\n",
    "#Constraints-:\n",
    "#1. N div by 400 --> leap year\n",
    "#2. N div by 4 , N not div by 100 --> leap year\n",
    "\n",
    "year = int(input(\"enter the number :\"))\n",
    "if year % 4==0 and year % 100 !=0 or year % 400==0:\n",
    "    print(year,\"is a leap year\")\n",
    "else:\n",
    "    print(year,\"is not a leap year\")"
   ]
  },
  {
   "cell_type": "markdown",
   "id": "3e726568-c0e0-4de3-8095-93a8051aaf28",
   "metadata": {},
   "source": [
    "#WAP to display the grade given a mark by using following constraint-:\n",
    "#Constraints -:\n",
    "#75 & above -: A grade\n",
    "#60-74 -: B grade\n",
    "#35-59 -: C grade\n",
    "#Below 35 -: Fail\n",
    "percentage = int(input(\"enter the percentage : \"))\n",
    "if percentage < 35:\n",
    "    print('fail')\n",
    "elif 35 < percentage <59:\n",
    "    print('C')\n",
    "elif 60 < percentage <74:\n",
    "    print('B')\n",
    "elif percentage > 75:\n",
    "    print('A')\n",
    "else:\n",
    "    print(\"please enter the percentage= \",percentage)\n"
   ]
  },
  {
   "cell_type": "code",
   "execution_count": 1,
   "id": "cf5dfe81-848d-4bee-951d-c8749c39c969",
   "metadata": {},
   "outputs": [
    {
     "name": "stdin",
     "output_type": "stream",
     "text": [
      "enter the number :  24\n"
     ]
    },
    {
     "name": "stdout",
     "output_type": "stream",
     "text": [
      "24 is even number\n"
     ]
    }
   ],
   "source": [
    "#WAP to check weather the number is even or odd\n",
    "#Constraints-:\n",
    "#N div by 2 → even\n",
    "number = int(input(\"enter the number : \"))\n",
    "if number%2==0:\n",
    "    print(number,\"is even number\")\n",
    "else:\n",
    "    print(number,\"is odd number\")\n"
   ]
  },
  {
   "cell_type": "code",
   "execution_count": null,
   "id": "de41b644-3c29-4d33-bc93-245db6f1b883",
   "metadata": {},
   "outputs": [],
   "source": [
    "#LOOPs"
   ]
  },
  {
   "cell_type": "code",
   "execution_count": 80,
   "id": "8ab70342-4d13-4dc0-b364-04dbec30d5c8",
   "metadata": {},
   "outputs": [
    {
     "name": "stdout",
     "output_type": "stream",
     "text": [
      "1\n",
      "2\n",
      "3\n",
      "4\n",
      "5\n",
      "6\n",
      "7\n",
      "8\n",
      "9\n",
      "10\n",
      "--------------------\n",
      "****while loop*******\n",
      "1\n",
      "2\n",
      "3\n",
      "4\n",
      "5\n",
      "6\n",
      "7\n",
      "8\n",
      "9\n",
      "10\n"
     ]
    }
   ],
   "source": [
    "#WAP to print 1-10 using for loop\n",
    "for i in range(1,11):\n",
    " print(i)\n",
    "\n",
    "print('--------------------')\n",
    "print('****while loop*******')\n",
    "i=1\n",
    "while(i<=10):\n",
    "    print(i)\n",
    "    i+=1"
   ]
  },
  {
   "cell_type": "code",
   "execution_count": 7,
   "id": "42eb0661-7417-4bbd-b35b-8a0411592623",
   "metadata": {},
   "outputs": [
    {
     "name": "stdout",
     "output_type": "stream",
     "text": [
      "10\n",
      "9\n",
      "8\n",
      "7\n",
      "6\n",
      "5\n",
      "4\n",
      "3\n",
      "2\n",
      "1\n",
      "--------------------\n",
      "****while loop*******\n",
      "10\n",
      "9\n",
      "8\n",
      "7\n",
      "6\n",
      "5\n",
      "4\n",
      "3\n",
      "2\n",
      "1\n"
     ]
    }
   ],
   "source": [
    "#WAP to print 10-1 using for loop\n",
    "for i in range(10,0,-1):\n",
    " print(i)\n",
    "\n",
    "print('--------------------')\n",
    "print('****while loop*******')\n",
    "\n",
    "i=10\n",
    "while i>0:\n",
    "    print(i)\n",
    "    i-=1"
   ]
  },
  {
   "cell_type": "code",
   "execution_count": 9,
   "id": "7de2e717-51c4-43b3-a05d-53731c76798f",
   "metadata": {},
   "outputs": [
    {
     "name": "stdin",
     "output_type": "stream",
     "text": [
      "Enter a number:  10\n"
     ]
    },
    {
     "name": "stdout",
     "output_type": "stream",
     "text": [
      "i :  1\n",
      "factorial :  1  i : 1\n",
      "i :  2\n",
      "factorial :  1  i : 2\n",
      "i :  3\n",
      "factorial :  2  i : 3\n",
      "i :  4\n",
      "factorial :  6  i : 4\n",
      "i :  5\n",
      "factorial :  24  i : 5\n",
      "i :  6\n",
      "factorial :  120  i : 6\n",
      "i :  7\n",
      "factorial :  720  i : 7\n",
      "i :  8\n",
      "factorial :  5040  i : 8\n",
      "i :  9\n",
      "factorial :  40320  i : 9\n",
      "i :  10\n",
      "factorial :  362880  i : 10\n",
      "Factorial of the given number is:  3628800\n",
      "####while loop#######\n",
      "Factorial of the given number is:  3628800\n"
     ]
    }
   ],
   "source": [
    "#WAP to calculate the factorial of number using for loop\n",
    "n = int (input (\"Enter a number: \"))\n",
    "factorial = 1\n",
    "if n >= 1:\n",
    "    for i in range (1, n+1):\n",
    "        print(\"i : \",i)\n",
    "        print(\"factorial : \",factorial ,\" i :\",i)\n",
    "        factorial=factorial *i\n",
    "print(\"Factorial of the given number is: \", factorial)\n",
    "\n",
    "####while loop#######\n",
    "\n",
    "print('####while loop#######')\n",
    "i = 1\n",
    "factorial =1\n",
    "if n >= 1:\n",
    "    while i<=n:\n",
    "        factorial=factorial*i\n",
    "        i = i+1\n",
    "    print(\"Factorial of the given number is: \", factorial)"
   ]
  },
  {
   "cell_type": "code",
   "execution_count": 32,
   "id": "370f7a04-e3ca-43f8-a7bb-d195eb98fdaa",
   "metadata": {},
   "outputs": [
    {
     "name": "stdin",
     "output_type": "stream",
     "text": [
      "Enter a number:  10\n"
     ]
    },
    {
     "name": "stdout",
     "output_type": "stream",
     "text": [
      "55\n",
      "####while loop#######\n",
      "55\n"
     ]
    }
   ],
   "source": [
    "#WAP to add 1st nth natural using for loop\n",
    "n = int(input(\"Enter a number: \"))\n",
    "sum=0\n",
    "for i in range(1,n+1):\n",
    "    sum = sum + i\n",
    "print(sum)\n",
    "\n",
    "print('####while loop#######')\n",
    "i = 1\n",
    "sum=0\n",
    "while(i<=n):\n",
    "    sum = sum + i\n",
    "    i+=1\n",
    "print(sum)"
   ]
  },
  {
   "cell_type": "code",
   "execution_count": 48,
   "id": "95b07784-70d9-490d-86b9-fe581058c0af",
   "metadata": {},
   "outputs": [
    {
     "name": "stdin",
     "output_type": "stream",
     "text": [
      "Enter a number:  5\n"
     ]
    },
    {
     "name": "stdout",
     "output_type": "stream",
     "text": [
      "5\n",
      "10\n",
      "15\n",
      "20\n",
      "25\n",
      "30\n",
      "35\n",
      "40\n",
      "45\n",
      "50\n",
      "---------------------\n",
      "####while loop#######\n",
      "---------------------\n",
      "5\n",
      "10\n",
      "15\n",
      "20\n",
      "25\n",
      "30\n",
      "35\n",
      "40\n",
      "45\n",
      "50\n"
     ]
    }
   ],
   "source": [
    "#WAP to print the table of given N using for loop\n",
    "num = int (input (\"Enter a number: \"))\n",
    "for i in range(1, 11):\n",
    "   print(num*i)\n",
    "\n",
    "print('---------------------')  \n",
    "print('####while loop#######')  \n",
    "print('---------------------') \n",
    "i=1\n",
    "while i <= 10:\n",
    "   print(num*i)   \n",
    "   i+=1 "
   ]
  },
  {
   "cell_type": "code",
   "execution_count": 46,
   "id": "75236633-5c3c-4a16-9c85-e72a3db90468",
   "metadata": {},
   "outputs": [
    {
     "name": "stdout",
     "output_type": "stream",
     "text": [
      "0\n",
      "1\n",
      "1\n",
      "2\n",
      "3\n",
      "5\n",
      "8\n",
      "13\n",
      "21\n",
      "34\n",
      "55\n",
      "89\n",
      "--------------------\n",
      "####while loop#######\n",
      "0\n",
      "1\n",
      "1\n",
      "2\n",
      "3\n",
      "5\n",
      "8\n",
      "13\n",
      "21\n",
      "34\n",
      "55\n",
      "89\n"
     ]
    }
   ],
   "source": [
    "#WAP to print nth fibonacci series\n",
    "a = 0\n",
    "b = 1 \n",
    "print(a)\n",
    "print(b)\n",
    "for i in range(10):\n",
    "    c = a + b\n",
    "    print(c)\n",
    "    a = b \n",
    "    b = c\n",
    "\n",
    "print('--------------------')\n",
    "\n",
    "print('####while loop#######')\n",
    "i =1\n",
    "a = 0\n",
    "b = 1\n",
    "print(a)\n",
    "print(b)\n",
    "while(i<11):\n",
    "    c = a + b\n",
    "    print(c)\n",
    "    a = b\n",
    "    b = c\n",
    "    i+=1\n"
   ]
  },
  {
   "cell_type": "code",
   "execution_count": 42,
   "id": "85aa2ee2-90df-4c07-bb42-48e5730e523d",
   "metadata": {},
   "outputs": [
    {
     "name": "stdout",
     "output_type": "stream",
     "text": [
      "1900 not a leap year\n",
      "1901 not a leap year\n",
      "1902 not a leap year\n",
      "1903 not a leap year\n",
      "1904 leap year\n",
      "1905 not a leap year\n",
      "1906 not a leap year\n",
      "1907 not a leap year\n",
      "1908 leap year\n",
      "1909 not a leap year\n",
      "1910 not a leap year\n",
      "1911 not a leap year\n",
      "1912 leap year\n",
      "1913 not a leap year\n",
      "1914 not a leap year\n",
      "1915 not a leap year\n",
      "1916 leap year\n",
      "1917 not a leap year\n",
      "1918 not a leap year\n",
      "1919 not a leap year\n",
      "1920 leap year\n",
      "1921 not a leap year\n",
      "1922 not a leap year\n",
      "1923 not a leap year\n",
      "1924 leap year\n",
      "1925 not a leap year\n",
      "1926 not a leap year\n",
      "1927 not a leap year\n",
      "1928 leap year\n",
      "1929 not a leap year\n",
      "1930 not a leap year\n",
      "1931 not a leap year\n",
      "1932 leap year\n",
      "1933 not a leap year\n",
      "1934 not a leap year\n",
      "1935 not a leap year\n",
      "1936 leap year\n",
      "1937 not a leap year\n",
      "1938 not a leap year\n",
      "1939 not a leap year\n",
      "1940 leap year\n",
      "1941 not a leap year\n",
      "1942 not a leap year\n",
      "1943 not a leap year\n",
      "1944 leap year\n",
      "1945 not a leap year\n",
      "1946 not a leap year\n",
      "1947 not a leap year\n",
      "1948 leap year\n",
      "1949 not a leap year\n",
      "1950 not a leap year\n",
      "1951 not a leap year\n",
      "1952 leap year\n",
      "1953 not a leap year\n",
      "1954 not a leap year\n",
      "1955 not a leap year\n",
      "1956 leap year\n",
      "1957 not a leap year\n",
      "1958 not a leap year\n",
      "1959 not a leap year\n",
      "1960 leap year\n",
      "1961 not a leap year\n",
      "1962 not a leap year\n",
      "1963 not a leap year\n",
      "1964 leap year\n",
      "1965 not a leap year\n",
      "1966 not a leap year\n",
      "1967 not a leap year\n",
      "1968 leap year\n",
      "1969 not a leap year\n",
      "1970 not a leap year\n",
      "1971 not a leap year\n",
      "1972 leap year\n",
      "1973 not a leap year\n",
      "1974 not a leap year\n",
      "1975 not a leap year\n",
      "1976 leap year\n",
      "1977 not a leap year\n",
      "1978 not a leap year\n",
      "1979 not a leap year\n",
      "1980 leap year\n",
      "1981 not a leap year\n",
      "1982 not a leap year\n",
      "1983 not a leap year\n",
      "1984 leap year\n",
      "1985 not a leap year\n",
      "1986 not a leap year\n",
      "1987 not a leap year\n",
      "1988 leap year\n",
      "1989 not a leap year\n",
      "1990 not a leap year\n",
      "1991 not a leap year\n",
      "1992 leap year\n",
      "1993 not a leap year\n",
      "1994 not a leap year\n",
      "1995 not a leap year\n",
      "1996 leap year\n",
      "1997 not a leap year\n",
      "1998 not a leap year\n",
      "1999 not a leap year\n",
      "2000 leap year\n",
      "2001 not a leap year\n",
      "2002 not a leap year\n",
      "2003 not a leap year\n",
      "2004 leap year\n",
      "2005 not a leap year\n",
      "2006 not a leap year\n",
      "2007 not a leap year\n",
      "2008 leap year\n",
      "2009 not a leap year\n",
      "2010 not a leap year\n",
      "2011 not a leap year\n",
      "2012 leap year\n",
      "2013 not a leap year\n",
      "2014 not a leap year\n",
      "2015 not a leap year\n",
      "2016 leap year\n",
      "2017 not a leap year\n",
      "2018 not a leap year\n",
      "2019 not a leap year\n",
      "2020 leap year\n",
      "2021 not a leap year\n",
      "2022 not a leap year\n",
      "2023 not a leap year\n",
      "2024 leap year\n",
      "2025 not a leap year\n",
      "2026 not a leap year\n",
      "2027 not a leap year\n",
      "2028 leap year\n",
      "2029 not a leap year\n",
      "2030 not a leap year\n",
      "\n"
     ]
    }
   ],
   "source": [
    "#WAP to list out all the leap years from 1900-2030 using for loop\n",
    "for i in range(1900,2031):\n",
    "        if i%4==0 and  i%100!=0:\n",
    "            print(i,\"leap year\")\n",
    "        elif i%400 == 0:\n",
    "            print(i,\"leap year\")\n",
    "        else:\n",
    "           print(i,\"not a leap year\")\n",
    "print()"
   ]
  },
  {
   "cell_type": "code",
   "execution_count": 44,
   "id": "74f10c7a-0227-4cee-8eb0-fbc0c06c7ce5",
   "metadata": {},
   "outputs": [
    {
     "name": "stdout",
     "output_type": "stream",
     "text": [
      "1 Odd Number\n",
      "2 Even Number\n",
      "3 Odd Number\n",
      "4 Even Number\n",
      "5 Odd Number\n",
      "6 Even Number\n",
      "7 Odd Number\n",
      "8 Even Number\n",
      "9 Odd Number\n",
      "10 Even Number\n",
      "11 Odd Number\n",
      "12 Even Number\n",
      "13 Odd Number\n",
      "14 Even Number\n",
      "15 Odd Number\n",
      "16 Even Number\n",
      "17 Odd Number\n",
      "18 Even Number\n",
      "19 Odd Number\n",
      "20 Even Number\n",
      "21 Odd Number\n",
      "22 Even Number\n",
      "23 Odd Number\n",
      "24 Even Number\n",
      "25 Odd Number\n",
      "26 Even Number\n",
      "27 Odd Number\n",
      "28 Even Number\n",
      "29 Odd Number\n",
      "30 Even Number\n",
      "31 Odd Number\n",
      "32 Even Number\n",
      "33 Odd Number\n",
      "34 Even Number\n",
      "35 Odd Number\n",
      "36 Even Number\n",
      "37 Odd Number\n",
      "38 Even Number\n",
      "39 Odd Number\n",
      "40 Even Number\n",
      "41 Odd Number\n",
      "42 Even Number\n",
      "43 Odd Number\n",
      "44 Even Number\n",
      "45 Odd Number\n",
      "46 Even Number\n",
      "47 Odd Number\n",
      "48 Even Number\n",
      "49 Odd Number\n",
      "50 Even Number\n",
      "51 Odd Number\n",
      "52 Even Number\n",
      "53 Odd Number\n",
      "54 Even Number\n",
      "55 Odd Number\n",
      "56 Even Number\n",
      "57 Odd Number\n",
      "58 Even Number\n",
      "59 Odd Number\n",
      "60 Even Number\n",
      "61 Odd Number\n",
      "62 Even Number\n",
      "63 Odd Number\n",
      "64 Even Number\n",
      "65 Odd Number\n",
      "66 Even Number\n",
      "67 Odd Number\n",
      "68 Even Number\n",
      "69 Odd Number\n",
      "70 Even Number\n",
      "71 Odd Number\n",
      "72 Even Number\n",
      "73 Odd Number\n",
      "74 Even Number\n",
      "75 Odd Number\n",
      "76 Even Number\n",
      "77 Odd Number\n",
      "78 Even Number\n",
      "79 Odd Number\n",
      "80 Even Number\n",
      "81 Odd Number\n",
      "82 Even Number\n",
      "83 Odd Number\n",
      "84 Even Number\n",
      "85 Odd Number\n",
      "86 Even Number\n",
      "87 Odd Number\n",
      "88 Even Number\n",
      "89 Odd Number\n",
      "90 Even Number\n",
      "91 Odd Number\n",
      "92 Even Number\n",
      "93 Odd Number\n",
      "94 Even Number\n",
      "95 Odd Number\n",
      "96 Even Number\n",
      "97 Odd Number\n",
      "98 Even Number\n",
      "99 Odd Number\n",
      "100 Even Number\n",
      "\n"
     ]
    }
   ],
   "source": [
    "#WAP to give all the even and odd number in list from 1-100 using for loop\n",
    "for i in range(1,101):\n",
    "    if i%2==0:\n",
    "        print(i,\"Even Number\")\n",
    "    else :\n",
    "        print(i,\"Odd Number\")\n",
    "print()"
   ]
  },
  {
   "cell_type": "code",
   "execution_count": 60,
   "id": "7efe76ac-0099-4efc-a9b0-1bdc8b9efc4f",
   "metadata": {},
   "outputs": [
    {
     "name": "stdin",
     "output_type": "stream",
     "text": [
      " 7546\n"
     ]
    },
    {
     "name": "stdout",
     "output_type": "stream",
     "text": [
      "reverse number: 6457\n"
     ]
    }
   ],
   "source": [
    "#wap to reverse a number\n",
    "#input -: 7546\n",
    "#ouput -: 6457\n",
    "num = int(input())\n",
    "reverse=0\n",
    "while num!=0:\n",
    "    remainder = num%10\n",
    "    reverse = reverse*10+remainder\n",
    "    num = num//10\n",
    "print(\"reverse number:\" ,reverse)"
   ]
  },
  {
   "cell_type": "code",
   "execution_count": 92,
   "id": "4b6dbce3-cb38-44a9-b44a-811cf1b94457",
   "metadata": {},
   "outputs": [
    {
     "name": "stdin",
     "output_type": "stream",
     "text": [
      "enter the number: 12321\n"
     ]
    },
    {
     "name": "stdout",
     "output_type": "stream",
     "text": [
      "palindrome\n"
     ]
    }
   ],
   "source": [
    "#WAP to check whether the given number is palindrome or not\n",
    "num = int(input(\"enter the number:\"))\n",
    "p= num\n",
    "reverse=0\n",
    "while num!=0:\n",
    "    remainder = num%10\n",
    "    reverse = reverse*10+remainder\n",
    "    num = num//10\n",
    "if reverse==p:\n",
    "    print(\"palindrome\")\n",
    "else:\n",
    "    print(\" not palindrome\")\n",
    "    "
   ]
  },
  {
   "cell_type": "code",
   "execution_count": 68,
   "id": "0df7bfb7-39dd-400d-b39c-e0e491ba2b18",
   "metadata": {},
   "outputs": [
    {
     "name": "stdout",
     "output_type": "stream",
     "text": [
      "palindrome\n"
     ]
    }
   ],
   "source": [
    "#WAP to check whether the given number is palindrome or not\n",
    "s=(\"arora\")\n",
    "p= s[: :-1]\n",
    "if s==p:\n",
    "    print(\"palindrome\")\n",
    "else:\n",
    "    print(\" not palindrome\")\n",
    "    "
   ]
  },
  {
   "cell_type": "code",
   "execution_count": 90,
   "id": "136c6e5e-b6a8-46f0-b8d4-a82049b7327b",
   "metadata": {},
   "outputs": [
    {
     "name": "stdin",
     "output_type": "stream",
     "text": [
      "enter the number: 153\n"
     ]
    },
    {
     "name": "stdout",
     "output_type": "stream",
     "text": [
      "armstrong\n"
     ]
    }
   ],
   "source": [
    "#WAP to check whether the given number is armstrong or not\n",
    "num = int(input(\"enter the number:\"))\n",
    "p= num\n",
    "armstrong=0\n",
    "while num!=0:\n",
    "    remainder = num%10\n",
    "    armstrong = armstrong+remainder**3\n",
    "    num = num//10\n",
    "if p==armstrong:\n",
    "    print(\"armstrong\")\n",
    "else:\n",
    "    print(\" not armstrong\")\n",
    "    "
   ]
  },
  {
   "cell_type": "code",
   "execution_count": 88,
   "id": "8ba73e7f-263c-4419-97d6-2560c0fee8b4",
   "metadata": {},
   "outputs": [
    {
     "name": "stdin",
     "output_type": "stream",
     "text": [
      "enter the number: 145\n"
     ]
    },
    {
     "name": "stdout",
     "output_type": "stream",
     "text": [
      "Strong\n"
     ]
    }
   ],
   "source": [
    "#WAP to check whether the given number is Strong or not\n",
    "num = int(input(\"enter the number:\"))\n",
    "p= num\n",
    "Strong=0\n",
    "while num!=0:\n",
    "    remainder = num%10\n",
    "    f=1\n",
    "    for i in range (1,remainder +1):\n",
    "        f=f*i\n",
    "    Strong = Strong + f\n",
    "    num = num//10\n",
    "if Strong == p:\n",
    "    print(\"Strong\")\n",
    "else:\n",
    "    print(\" not Strong\")\n",
    "    "
   ]
  },
  {
   "cell_type": "code",
   "execution_count": 7,
   "id": "647c7a7f-0f94-440e-a852-e8c6795451c6",
   "metadata": {},
   "outputs": [
    {
     "name": "stdin",
     "output_type": "stream",
     "text": [
      "enter the number: 12\n"
     ]
    },
    {
     "name": "stdout",
     "output_type": "stream",
     "text": [
      "not Neon\n"
     ]
    }
   ],
   "source": [
    "#WAP to check whether the given number is Neon or not\n",
    "num = int(input(\"enter the number:\"))\n",
    "square=num**2\n",
    "n=0\n",
    "while square !=0:\n",
    "    remainder = square%10\n",
    "    n += remainder\n",
    "    square = square//10\n",
    "if num == n:\n",
    "    print(\"Neon\")\n",
    "else:\n",
    "    print(\"not Neon\")\n",
    "    \n",
    "    "
   ]
  },
  {
   "cell_type": "code",
   "execution_count": 33,
   "id": "eec0f111-0df9-43ef-968b-9e4ad37399f2",
   "metadata": {},
   "outputs": [
    {
     "name": "stdin",
     "output_type": "stream",
     "text": [
      "Enter any number:  6\n"
     ]
    },
    {
     "name": "stdout",
     "output_type": "stream",
     "text": [
      "The number is a Perfect number\n"
     ]
    }
   ],
   "source": [
    "#WAP to check whether the given number is perfect or not\n",
    "n = int(input(\"Enter any number: \"))\n",
    "p = 0\n",
    "for i in range(1,n):\n",
    "    if n % i == 0:\n",
    "        p =p+i\n",
    "if p==n:\n",
    "    print(\"The number is a Perfect number\")\n",
    "else:\n",
    "    print(\"The number is not a Perfect number\")"
   ]
  },
  {
   "cell_type": "code",
   "execution_count": 58,
   "id": "a94d6e78-adf2-4ed8-9402-e857d9cdff0b",
   "metadata": {},
   "outputs": [
    {
     "name": "stdin",
     "output_type": "stream",
     "text": [
      "enter the string:  TYB-COM\n"
     ]
    },
    {
     "name": "stdout",
     "output_type": "stream",
     "text": [
      "TYB-COM\n",
      "TYB-COM\n",
      "TYB-COM\n",
      "TYB-COM\n",
      "TYB-COM\n"
     ]
    }
   ],
   "source": [
    "#26 write three separate programs to print TYB-COM 5 times using all the 3 loops\n",
    "#For loop\n",
    "a= input(\"enter the string: \")\n",
    "for i in range(5):\n",
    "     print(a)"
   ]
  },
  {
   "cell_type": "code",
   "execution_count": 60,
   "id": "cf218384-0003-4a41-92b5-8385c5fc5521",
   "metadata": {},
   "outputs": [
    {
     "name": "stdout",
     "output_type": "stream",
     "text": [
      " TYB-COM\n",
      " TYB-COM\n",
      " TYB-COM\n",
      " TYB-COM\n",
      " TYB-COM\n"
     ]
    }
   ],
   "source": [
    "# 26WHILE LOOP\n",
    "a= \" TYB-COM\"\n",
    "i=1\n",
    "while i<=5:\n",
    "    i+=1\n",
    "    print(a)\n"
   ]
  },
  {
   "cell_type": "code",
   "execution_count": 84,
   "id": "20c6a2b3-50fd-47ee-abe0-7c6dc49c870e",
   "metadata": {},
   "outputs": [
    {
     "name": "stdout",
     "output_type": "stream",
     "text": [
      "100 99 98 97 96 95 94 93 92 91 90 89 88 87 86 85 84 83 82 81 80 79 78 77 76 75 74 73 72 71 70 69 68 67 66 65 64 63 62 61 60 59 58 57 56 55 54 53 52 51 50 49 48 47 46 45 44 43 42 41 40 39 38 37 36 35 34 33 32 31 30 29 28 27 26 25 24 23 22 21 20 19 18 17 16 15 14 13 12 11 10 9 8 7 6 5 4 3 2 1 \n"
     ]
    }
   ],
   "source": [
    "#27 WAP to print number from 100 to 1. Print 10 numbers on each line\n",
    "for i in range(100,0,-1):\n",
    "    print(i, end=\" \")\n",
    "print()"
   ]
  },
  {
   "cell_type": "code",
   "execution_count": 88,
   "id": "6b132c0e-f792-4e66-9333-7c4d4084dcd7",
   "metadata": {},
   "outputs": [
    {
     "name": "stdout",
     "output_type": "stream",
     "text": [
      "13 odd Number\n",
      "even Number\n",
      "15 odd Number\n",
      "even Number\n",
      "17 odd Number\n",
      "even Number\n",
      "19 odd Number\n",
      "even Number\n",
      "21 odd Number\n",
      "even Number\n",
      "23 odd Number\n",
      "even Number\n",
      "25 odd Number\n",
      "even Number\n",
      "27 odd Number\n",
      "even Number\n",
      "29 odd Number\n",
      "even Number\n",
      "31 odd Number\n",
      "even Number\n",
      "33 odd Number\n",
      "even Number\n",
      "35 odd Number\n",
      "even Number\n",
      "37 odd Number\n",
      "even Number\n",
      "39 odd Number\n",
      "even Number\n",
      "41 odd Number\n",
      "even Number\n",
      "43 odd Number\n",
      "even Number\n",
      "45 odd Number\n",
      "even Number\n",
      "47 odd Number\n",
      "even Number\n",
      "49 odd Number\n",
      "even Number\n",
      "51 odd Number\n",
      "even Number\n",
      "53 odd Number\n",
      "even Number\n",
      "55 odd Number\n",
      "even Number\n",
      "57 odd Number\n",
      "even Number\n",
      "59 odd Number\n",
      "even Number\n",
      "61 odd Number\n",
      "even Number\n",
      "63 odd Number\n",
      "even Number\n",
      "65 odd Number\n",
      "even Number\n",
      "67 odd Number\n",
      "even Number\n",
      "69 odd Number\n"
     ]
    }
   ],
   "source": [
    "#28 WAP to print all odd integers from 13 to 69. Print 8 integers on each line\n",
    "for i in range(13,70):\n",
    "    if i%2!=0:\n",
    "        print(i,\"odd Number\") \n",
    "    else:\n",
    "        print(\"even Number\")"
   ]
  },
  {
   "cell_type": "code",
   "execution_count": 64,
   "id": "905ac825-e8ad-43c1-8aed-e6e0b8429fd1",
   "metadata": {},
   "outputs": [
    {
     "name": "stdout",
     "output_type": "stream",
     "text": [
      "Sum of 5 numbers =  15\n",
      "Product of 5 numbers =  120\n"
     ]
    }
   ],
   "source": [
    "#29 WAP to find and print the sum and product of first 5 natural number\n",
    "sum = 0\n",
    "product = 1\n",
    "for i in range(1,6):\n",
    "    sum += i\n",
    "    product *= i\n",
    "print(\"Sum of 5 numbers = \",sum)\n",
    "print('Product of 5 numbers = ',product)"
   ]
  },
  {
   "cell_type": "code",
   "execution_count": 66,
   "id": "010357d0-2c91-48e9-bb11-d4a14e96446c",
   "metadata": {},
   "outputs": [
    {
     "name": "stdin",
     "output_type": "stream",
     "text": [
      "enter the number:  4\n"
     ]
    },
    {
     "name": "stdout",
     "output_type": "stream",
     "text": [
      "24\n"
     ]
    }
   ],
   "source": [
    "#30 WAP to find and print the factorial of 4.\n",
    "#Hint 4! = 1 X 2 X 3 X 4\n",
    "n=int(input(\"enter the number: \"))\n",
    "factorial=1\n",
    "for i in range(1, n + 1):\n",
    "    factorial*= i\n",
    "print(factorial)    \n"
   ]
  },
  {
   "cell_type": "code",
   "execution_count": 72,
   "id": "c1125c5d-fb69-46ff-97f0-7af35f256d0d",
   "metadata": {},
   "outputs": [
    {
     "name": "stdout",
     "output_type": "stream",
     "text": [
      "sum of 10 to 100 even numbers: 2530\n"
     ]
    }
   ],
   "source": [
    "#31 write a program to print the sum of all even numbers from 10 to 100\n",
    "sum=0\n",
    "for i in range(10,101):\n",
    "    if i%2==0:\n",
    "        sum+=i\n",
    "print(\"sum of 10 to 100 even numbers:\" ,sum)\n"
   ]
  },
  {
   "cell_type": "code",
   "execution_count": 120,
   "id": "d02810fa-6019-4452-83b4-86ef1b775905",
   "metadata": {},
   "outputs": [
    {
     "name": "stdout",
     "output_type": "stream",
     "text": [
      "sum of 1 to 115 numbers=: 6670\n"
     ]
    }
   ],
   "source": [
    "#32 WAP three separate programs, using three loops, to calculate the sum of 1 + 3 + 5 +........+ 115\n",
    "sum = 0\n",
    "for i in range(1,116):\n",
    "        sum+=i\n",
    "print(\"sum of 1 to 115 numbers=:\" ,sum)"
   ]
  },
  {
   "cell_type": "code",
   "execution_count": 122,
   "id": "02cdb5fa-e5c7-4084-9236-0c6a927cb86d",
   "metadata": {},
   "outputs": [
    {
     "name": "stdout",
     "output_type": "stream",
     "text": [
      "sum of numbers =  6670\n"
     ]
    }
   ],
   "source": [
    "#32(while loop)\n",
    "sum = 0\n",
    "i = 1\n",
    "while i < 116:\n",
    "    sum += i\n",
    "    i += 1\n",
    "print(\"sum of numbers = \",sum)"
   ]
  },
  {
   "cell_type": "code",
   "execution_count": 124,
   "id": "9215f3cf-a654-4d9d-9d99-93277248d2a7",
   "metadata": {},
   "outputs": [
    {
     "name": "stdout",
     "output_type": "stream",
     "text": [
      "sum of 1 to 15:  1240\n"
     ]
    }
   ],
   "source": [
    "#33 WAP to find and print the sum of 1^2 + 2^2 + 3^2 + ......... + 15^2\n",
    "sum=0\n",
    "for i in range(1,16):\n",
    "    sum+=i**2\n",
    "print(\"sum of 1 to 15: \",sum)"
   ]
  },
  {
   "cell_type": "code",
   "execution_count": 114,
   "id": "5e094450-d0dd-419a-ae53-2c0efe40eb8c",
   "metadata": {},
   "outputs": [
    {
     "name": "stdout",
     "output_type": "stream",
     "text": [
      "sum of power:  2047\n"
     ]
    }
   ],
   "source": [
    "#34 WAP to find and print the sum of 2^0 + 2^1 + 2^2 + .......... + 2^10\n",
    "power=0\n",
    "for i in range(11):\n",
    "    power+=2**i\n",
    "print(\"sum of power: \",power)"
   ]
  },
  {
   "cell_type": "code",
   "execution_count": 118,
   "id": "26c24624-73a6-4ea0-bbb6-ed2d76e85507",
   "metadata": {},
   "outputs": [
    {
     "name": "stdout",
     "output_type": "stream",
     "text": [
      "sum of power:  16739\n"
     ]
    }
   ],
   "source": [
    "#35 WAP to find and print the sum of 1^2 + 2^3 + 3^4 + ......... + 5^6\n",
    "power=0\n",
    "for i in range(1,6):\n",
    "    power += i**(i+1)\n",
    "print(\"sum of power: \",power)"
   ]
  },
  {
   "cell_type": "code",
   "execution_count": 126,
   "id": "84d4e6c1-e1a1-4f4a-b95d-ce047a04ffe3",
   "metadata": {},
   "outputs": [
    {
     "name": "stdout",
     "output_type": "stream",
     "text": [
      "2 x 5 = 10\n",
      "5 x 9 = 45\n",
      "8 x 13 = 104\n",
      "11 x 17 = 187\n",
      "14 x 21 = 294\n",
      "17 x 25 = 425\n",
      "20 x 29 = 580\n",
      "23 x 33 = 759\n",
      "26 x 37 = 962\n",
      "29 x 41 = 1189\n",
      "sum =  4555\n"
     ]
    }
   ],
   "source": [
    "#36 WAP to find and print the sum of 2x5 + 5x9 + 8x13 + .......... + 29x41\n",
    "m = 5\n",
    "s = 0\n",
    "for i in range (2,30,3):\n",
    "    print(i,\"x\",m,\"=\",i*m)\n",
    "    s += (i*m)\n",
    "    m += 4\n",
    "print(\"sum = \",s)"
   ]
  },
  {
   "cell_type": "code",
   "execution_count": 110,
   "id": "33bc3bd7-7117-488f-847a-95c751ce334f",
   "metadata": {},
   "outputs": [
    {
     "name": "stdout",
     "output_type": "stream",
     "text": [
      "sum =  50.0\n"
     ]
    }
   ],
   "source": [
    "#37 WAP to find and print the sum of 1.3 + 3.5 + 5.7 + .......+19.21\n",
    "s = 0\n",
    "for i in range(1,20,2):\n",
    "    s += (i//2)+0.2+0.3\n",
    "print(\"sum = \",s)"
   ]
  },
  {
   "cell_type": "code",
   "execution_count": null,
   "id": "1c146d0c-f06e-495a-b0e3-8b5d921fc737",
   "metadata": {},
   "outputs": [],
   "source": [
    "#38 WAP to find and print the sum of 22.5 + 32.6 + 42.7 + .........+322.35\n"
   ]
  },
  {
   "cell_type": "code",
   "execution_count": 102,
   "id": "163681ad-a9aa-4959-b0f0-aec3bf914d72",
   "metadata": {},
   "outputs": [
    {
     "name": "stdout",
     "output_type": "stream",
     "text": [
      "2 ^ 3 = 24\n",
      "4 ^ 3 = 448\n",
      "6 ^ 3 = 2376\n",
      "8 ^ 3 = 7680\n",
      "10 ^ 3 = 19000\n",
      "12 ^ 3 = 39744\n",
      "14 ^ 3 = 74088\n",
      "16 ^ 3 = 126976\n",
      "18 ^ 3 = 204120\n",
      "20 ^ 3 = 312000\n",
      "sum =  786456\n"
     ]
    }
   ],
   "source": [
    "#39 WAP to find and print the sum of 2^3x3 + 4^3x7 + 6^3x11 + .........+ 20^3x39\n",
    "m = 3\n",
    "s = 0\n",
    "n = 3\n",
    "for i in range(2,22,2):\n",
    "    print(i,'^',m,'=',(i**m)*n)\n",
    "    s += (i**m)*n\n",
    "    n+=4\n",
    "print(\"sum = \",s)"
   ]
  },
  {
   "cell_type": "code",
   "execution_count": 112,
   "id": "7a08202d-40a3-4c24-b850-56f7b4633b55",
   "metadata": {},
   "outputs": [
    {
     "name": "stdout",
     "output_type": "stream",
     "text": [
      "1 x 2 x 3 = 6\n",
      "3 x 4 x 5 = 60\n",
      "5 x 6 x 7 = 210\n",
      "7 x 8 x 9 = 504\n",
      "9 x 10 x 11 = 990\n",
      "11 x 12 x 13 = 1716\n",
      "13 x 14 x 15 = 2730\n",
      "15 x 16 x 17 = 4080\n",
      "17 x 18 x 19 = 5814\n",
      "19 x 20 x 21 = 7980\n",
      "21 x 22 x 23 = 10626\n",
      "sum =  34716\n"
     ]
    }
   ],
   "source": [
    "#40 WAP to find and print the sum of 1x2x3 + 3x4x5 + 5x6x7 + ........+ 21x22x23\n",
    "m = 2\n",
    "n = 3\n",
    "s = 0\n",
    "for i in range(1,23,2):\n",
    "    print(i,'x',m,'x',n,'=',i*m*n)\n",
    "    s += (i*m*n)\n",
    "    m += 2\n",
    "    n +=2\n",
    "print(\"sum = \",s)"
   ]
  },
  {
   "cell_type": "code",
   "execution_count": 82,
   "id": "b929fdb7-7e82-4ec8-9462-328fc06ebd60",
   "metadata": {},
   "outputs": [
    {
     "name": "stdout",
     "output_type": "stream",
     "text": [
      "1\n",
      "4\n",
      "9\n",
      "16\n",
      "25\n",
      "36\n",
      "49\n",
      "64\n",
      "81\n",
      "100\n",
      "121\n",
      "144\n",
      "169\n",
      "196\n",
      "225\n",
      "256\n",
      "289\n",
      "324\n",
      "361\n",
      "400\n",
      "441\n",
      "484\n",
      "529\n",
      "576\n",
      "625\n",
      "sum=  5525\n"
     ]
    }
   ],
   "source": [
    "#41 WAP to find and print the sum of √1 + √2 + √3 + ... + √25\n",
    "s = 0\n",
    "for i in range(1,26):\n",
    "    print(i**2)\n",
    "    s +=(i**2)\n",
    "print(\"sum= \",s)"
   ]
  },
  {
   "cell_type": "code",
   "execution_count": null,
   "id": "bd2dc837-6ce0-48f4-9b22-b513131c959c",
   "metadata": {},
   "outputs": [],
   "source": []
  },
  {
   "cell_type": "code",
   "execution_count": null,
   "id": "e3a7c950-730d-4e86-879e-f142284761cd",
   "metadata": {},
   "outputs": [],
   "source": []
  },
  {
   "cell_type": "code",
   "execution_count": null,
   "id": "ec3c981e-e1bf-4d11-8665-90db7f7af6e2",
   "metadata": {},
   "outputs": [],
   "source": []
  }
 ],
 "metadata": {
  "kernelspec": {
   "display_name": "Python 3 (ipykernel)",
   "language": "python",
   "name": "python3"
  },
  "language_info": {
   "codemirror_mode": {
    "name": "ipython",
    "version": 3
   },
   "file_extension": ".py",
   "mimetype": "text/x-python",
   "name": "python",
   "nbconvert_exporter": "python",
   "pygments_lexer": "ipython3",
   "version": "3.12.4"
  }
 },
 "nbformat": 4,
 "nbformat_minor": 5
}
