{
 "cells": [
  {
   "cell_type": "code",
   "execution_count": 2,
   "id": "5ad886f0",
   "metadata": {},
   "outputs": [
    {
     "name": "stdout",
     "output_type": "stream",
     "text": [
      "2\n",
      "4\n",
      "6\n",
      "8\n",
      "10\n",
      "12\n",
      "14\n",
      "16\n",
      "18\n",
      "20\n"
     ]
    }
   ],
   "source": [
    "#Q1. Write a program to print first 10 even numbers.\n",
    "#for loop method\n",
    "for i in range(2,21):\n",
    "    if(i%2 == 0):\n",
    "        print(i)"
   ]
  },
  {
   "cell_type": "code",
   "execution_count": 6,
   "id": "2ac42c5b",
   "metadata": {
    "scrolled": true
   },
   "outputs": [
    {
     "name": "stdout",
     "output_type": "stream",
     "text": [
      "2\n",
      "4\n",
      "6\n",
      "8\n",
      "10\n",
      "12\n",
      "14\n",
      "16\n",
      "18\n",
      "20\n"
     ]
    }
   ],
   "source": [
    "#while loop method\n",
    "i = 2\n",
    "while (i<=20):\n",
    "    print(i)\n",
    "    i+=2"
   ]
  },
  {
   "cell_type": "code",
   "execution_count": 2,
   "id": "17daed44",
   "metadata": {},
   "outputs": [
    {
     "name": "stdout",
     "output_type": "stream",
     "text": [
      "1\n",
      "3\n",
      "5\n",
      "7\n",
      "9\n",
      "11\n",
      "13\n",
      "15\n",
      "17\n",
      "19\n"
     ]
    }
   ],
   "source": [
    "#Q2. Write a program to print first 10 odd numbers.\n",
    "#for loop method\n",
    "odd_num_count=0\n",
    "for i in range (1,21,2):\n",
    "    print(i)\n",
    "  "
   ]
  },
  {
   "cell_type": "code",
   "execution_count": 10,
   "id": "dc154586",
   "metadata": {},
   "outputs": [
    {
     "name": "stdout",
     "output_type": "stream",
     "text": [
      "1\n",
      "3\n",
      "5\n",
      "7\n",
      "9\n",
      "11\n",
      "13\n",
      "15\n",
      "17\n",
      "19\n"
     ]
    }
   ],
   "source": [
    "#while loop method\n",
    "i = 1\n",
    "while(i<=19):\n",
    "    print(i)\n",
    "    i+=2"
   ]
  },
  {
   "cell_type": "code",
   "execution_count": 16,
   "id": "263b13c3",
   "metadata": {},
   "outputs": [
    {
     "name": "stdout",
     "output_type": "stream",
     "text": [
      "20\n",
      "18\n",
      "16\n",
      "14\n",
      "12\n",
      "10\n",
      "8\n",
      "6\n",
      "4\n",
      "2\n"
     ]
    }
   ],
   "source": [
    "#Q3. Write a program to print first 10 even numbers in reverse order.\n",
    "#for loop method\n",
    "for i in range (20,1,-1):\n",
    "    if(i%2 == 0):\n",
    "        print(i)"
   ]
  },
  {
   "cell_type": "code",
   "execution_count": 2,
   "id": "2ed1ebe1",
   "metadata": {},
   "outputs": [
    {
     "name": "stdout",
     "output_type": "stream",
     "text": [
      "20\n",
      "18\n",
      "16\n",
      "14\n",
      "12\n",
      "10\n",
      "8\n",
      "6\n",
      "4\n",
      "2\n"
     ]
    }
   ],
   "source": [
    "#while loop method\n",
    "i =20\n",
    "while i>=2:\n",
    "    print(i)\n",
    "    i-=2"
   ]
  },
  {
   "cell_type": "code",
   "execution_count": 19,
   "id": "8fcb936a",
   "metadata": {},
   "outputs": [
    {
     "name": "stdout",
     "output_type": "stream",
     "text": [
      "5040\n"
     ]
    }
   ],
   "source": [
    "#Q4. Write a program to find the factorial of a number.\n",
    "#for loop method\n",
    "num =7\n",
    "factorial =1\n",
    "\n",
    "for i in range (1,num+1):\n",
    "    factorial=factorial*i\n",
    "print(factorial )"
   ]
  },
  {
   "cell_type": "code",
   "execution_count": 20,
   "id": "d1da68e2",
   "metadata": {},
   "outputs": [
    {
     "name": "stdout",
     "output_type": "stream",
     "text": [
      "5040\n"
     ]
    }
   ],
   "source": [
    "#while loop method\n",
    "i=7\n",
    "factorial =1\n",
    "while (i >1):\n",
    "    factorial=factorial*i\n",
    "    i=i-1\n",
    "print(factorial)\n",
    "  "
   ]
  },
  {
   "cell_type": "code",
   "execution_count": 30,
   "id": "03cf186e",
   "metadata": {},
   "outputs": [
    {
     "name": "stdout",
     "output_type": "stream",
     "text": [
      "enter the number : 15\n",
      "15 is not a prime number\n"
     ]
    }
   ],
   "source": [
    "#Q5. Write a program to check whether a number is prime or not.\n",
    "#for loop method\n",
    "num =int(input(\"enter the number : \"))\n",
    "p=0\n",
    "for i in range(2,num):\n",
    "    if num%1 == 0:\n",
    "        p = 1\n",
    "if p ==1:\n",
    "    print(num,\"is not a prime number\")\n",
    "else:\n",
    "    print(num,\"is a prime number\")\n",
    "    \n"
   ]
  },
  {
   "cell_type": "code",
   "execution_count": 34,
   "id": "a110db69",
   "metadata": {},
   "outputs": [
    {
     "name": "stdout",
     "output_type": "stream",
     "text": [
      "enter the number : 5\n",
      "5 is not a prime number\n"
     ]
    }
   ],
   "source": [
    "#while loop method\n",
    "num =int(input(\"enter the number : \"))\n",
    "p = 0\n",
    "i = 2\n",
    "while i<num:\n",
    "    if num%1 == 0:\n",
    "        p = 1\n",
    "    i+=1\n",
    "if p == 1:\n",
    "    print(num,\"is not a prime number\")\n",
    "else:\n",
    "    print(num,\"is a prime number\")\n"
   ]
  },
  {
   "cell_type": "code",
   "execution_count": 35,
   "id": "c79a4117",
   "metadata": {},
   "outputs": [
    {
     "name": "stdout",
     "output_type": "stream",
     "text": [
      "1\n",
      "5\n",
      "7\n",
      "11\n",
      "13\n",
      "17\n",
      "19\n"
     ]
    }
   ],
   "source": [
    "#Q6. Write a program to print numbers from 1 to 20 except multiple of 2 & 3.\n",
    "#for loop method\n",
    "for number in range(1,21):\n",
    "    if number % 2 !=0 and number % 3 !=0:\n",
    "        print(number)"
   ]
  },
  {
   "cell_type": "code",
   "execution_count": 1,
   "id": "9eece7c8",
   "metadata": {},
   "outputs": [
    {
     "name": "stdout",
     "output_type": "stream",
     "text": [
      "1\n",
      "5\n",
      "7\n",
      "11\n",
      "13\n",
      "17\n",
      "19\n"
     ]
    }
   ],
   "source": [
    "#while loop method\n",
    "number=1\n",
    "while number <=20:\n",
    "    if number % 2 !=0 and number % 3 !=0:\n",
    "            print(number)\n",
    "    number += 1\n",
    "\n",
    "    "
   ]
  },
  {
   "cell_type": "code",
   "execution_count": 46,
   "id": "04a920de",
   "metadata": {},
   "outputs": [
    {
     "name": "stdout",
     "output_type": "stream",
     "text": [
      "enter the number, :10\n",
      "enter the number, :15\n",
      "enter the number, :25\n",
      "enter the number, :35\n",
      "enter the number, :45\n",
      "enter the number, :55\n",
      "enter the number, :65\n",
      "enter the number, :75\n",
      "enter the number, :85\n",
      "enter the number, :95\n",
      "50.5\n",
      "average of 10 numbers: \n"
     ]
    }
   ],
   "source": [
    "#Q7. Write a program to accept 10 numbers from the user and display it’s average.\n",
    "#for loop method\n",
    "sum = 0\n",
    "for i in range(10):\n",
    "    num= int(input(\"enter the number, :\"))\n",
    "    sum += num\n",
    "print (sum/10)\n",
    "print(\"average of 10 numbers: \")"
   ]
  },
  {
   "cell_type": "code",
   "execution_count": 53,
   "id": "0e541767",
   "metadata": {},
   "outputs": [
    {
     "name": "stdout",
     "output_type": "stream",
     "text": [
      "enter the number10\n",
      "enter the number15\n",
      "enter the number25\n",
      "enter the number35\n",
      "enter the number45\n",
      "enter the number55\n",
      "enter the number65\n",
      "enter the number75\n",
      "enter the number85\n",
      "enter the number95\n",
      "50.5\n",
      "average of 10 numbers: \n"
     ]
    }
   ],
   "source": [
    "#while loop method\n",
    "sum = 0\n",
    "i=1\n",
    "while i<=10:\n",
    "    \n",
    "    num = int(input(\"enter the number\"))\n",
    "    sum += num\n",
    "    i += 1\n",
    "print (sum/10)\n",
    "print(\"average of 10 numbers: \")"
   ]
  },
  {
   "cell_type": "code",
   "execution_count": 29,
   "id": "16ede136",
   "metadata": {},
   "outputs": [
    {
     "name": "stdout",
     "output_type": "stream",
     "text": [
      "enter the number: 10\n",
      "enter the number: 12\n",
      "enter the number: 15\n",
      "enter the number: 20\n",
      "enter the number: 25\n",
      "enter the number: 30\n",
      "enter the number: 32\n",
      "enter the number: 45\n",
      "enter the number: 60\n",
      "enter the number: 78\n",
      "[10, 12, 15, 20, 25, 30, 32, 45, 60, 78]\n",
      "maximum 78\n",
      "minimum 10\n"
     ]
    }
   ],
   "source": [
    "#Q8. Write a program to accept 10 numbers from the user and display the largest & smallest number number.\n",
    "#for loop method\n",
    "l= []\n",
    "for i in range (10):\n",
    "    num= int(input(\"enter the number: \"))\n",
    "    l.append(num)\n",
    "print(l)\n",
    "print(\"maximum\",max(l))\n",
    "print(\"minimum\",min(l))\n",
    "         "
   ]
  },
  {
   "cell_type": "code",
   "execution_count": 63,
   "id": "a0ea68f0",
   "metadata": {},
   "outputs": [
    {
     "name": "stdout",
     "output_type": "stream",
     "text": [
      "enter the number10\n",
      "enter the number12\n",
      "enter the number15\n",
      "enter the number20\n",
      "enter the number25\n",
      "enter the number30\n",
      "enter the number32\n",
      "enter the number45\n",
      "enter the number60\n",
      "enter the number78\n",
      "[10, 12, 15, 20, 25, 30, 32, 45, 60, 78]\n",
      "maximum 78\n",
      "minimum 10\n"
     ]
    }
   ],
   "source": [
    "#while loop method\n",
    "l= []\n",
    "i=1\n",
    "while i <=10:\n",
    "    num = int(input(\"enter the number\"))\n",
    "    l.append(num)\n",
    "    i += 1\n",
    "print(l)\n",
    "print(\"maximum\",max(l))\n",
    "print(\"minimum\",min(l))"
   ]
  },
  {
   "cell_type": "code",
   "execution_count": 65,
   "id": "f8cc7678",
   "metadata": {},
   "outputs": [
    {
     "name": "stdout",
     "output_type": "stream",
     "text": [
      "23 odd number\n",
      "45 odd number\n",
      "25 odd number\n",
      "33 odd number\n",
      "71 odd number\n"
     ]
    }
   ],
   "source": [
    "#Q9. Write a program to print only odd numbers from the given list using for loop. L = [23, 45, 32, 25, 46, 33, 71, 90]\n",
    "#for loop method\n",
    "L = [23, 45, 32, 25, 46, 33, 71, 90]\n",
    "for i in L:\n",
    "    if i% 2!=0:\n",
    "        print(i,'odd number')\n",
    "    "
   ]
  },
  {
   "cell_type": "code",
   "execution_count": null,
   "id": "6d22c30d",
   "metadata": {},
   "outputs": [],
   "source": []
  },
  {
   "cell_type": "code",
   "execution_count": null,
   "id": "5bfa2ea0",
   "metadata": {},
   "outputs": [],
   "source": []
  }
 ],
 "metadata": {
  "kernelspec": {
   "display_name": "Python 3 (ipykernel)",
   "language": "python",
   "name": "python3"
  },
  "language_info": {
   "codemirror_mode": {
    "name": "ipython",
    "version": 3
   },
   "file_extension": ".py",
   "mimetype": "text/x-python",
   "name": "python",
   "nbconvert_exporter": "python",
   "pygments_lexer": "ipython3",
   "version": "3.11.3"
  }
 },
 "nbformat": 4,
 "nbformat_minor": 5
}
