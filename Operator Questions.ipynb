{
 "cells": [
  {
   "cell_type": "code",
   "execution_count": 17,
   "id": "598114b1-7fef-4749-b6f7-7c8fbaaa4f82",
   "metadata": {},
   "outputs": [
    {
     "name": "stdout",
     "output_type": "stream",
     "text": [
      "COMPUTER \n",
      " APTECH\n"
     ]
    }
   ],
   "source": [
    "print (\"COMPUTER \\n APTECH\")"
   ]
  },
  {
   "cell_type": "code",
   "execution_count": 29,
   "id": "0c23335b-7cf9-4a14-a93b-654f45fba054",
   "metadata": {},
   "outputs": [
    {
     "name": "stdout",
     "output_type": "stream",
     "text": [
      "DA=  500.25\n",
      "HRA=  200.10000000000002\n",
      "TOTAL=  1700.85\n",
      "TAX=  170.085\n"
     ]
    }
   ],
   "source": [
    "#Program to calculate \n",
    "basic=1000.50\n",
    "da=(50/100)*basic\n",
    "hra=(20/100)*basic\n",
    "total=basic+da+hra\n",
    "tax=(10/100)*total\n",
    "print(\"DA= \",da)\n",
    "print(\"HRA= \",hra)\n",
    "print(\"TOTAL= \",total)\n",
    "print(\"TAX= \",tax)"
   ]
  },
  {
   "cell_type": "code",
   "execution_count": 31,
   "id": "0fdc67d7-6bd9-456d-9d08-20b6402d8d8c",
   "metadata": {},
   "outputs": [
    {
     "name": "stdout",
     "output_type": "stream",
     "text": [
      "Area of Triangle=  25.0\n"
     ]
    }
   ],
   "source": [
    "#Area of Triangle\n",
    "base= 5\n",
    "height= 10\n",
    "area=1/2*base*height\n",
    "print(\"Area of Triangle= \",area)"
   ]
  },
  {
   "cell_type": "code",
   "execution_count": 35,
   "id": "c1384ea7-f969-4ecd-bf51-1f709dbd8829",
   "metadata": {},
   "outputs": [
    {
     "name": "stdin",
     "output_type": "stream",
     "text": [
      "Enter base=  15\n",
      "Enter height=  20\n"
     ]
    },
    {
     "name": "stdout",
     "output_type": "stream",
     "text": [
      "Area of Triangle=  150.0\n"
     ]
    }
   ],
   "source": [
    "base=int(input(\"Enter base= \"))\n",
    "height=int(input(\"Enter height= \"))\n",
    "area=1/2*base*height\n",
    "print(\"Area of Triangle= \",area)"
   ]
  },
  {
   "cell_type": "code",
   "execution_count": 39,
   "id": "a09149a8-519f-4976-b602-0dec178c5164",
   "metadata": {},
   "outputs": [
    {
     "name": "stdin",
     "output_type": "stream",
     "text": [
      "Enter the value of a:  10\n",
      "Enter the value of b:  15\n",
      "Enter the value of c:  20\n"
     ]
    },
    {
     "name": "stdout",
     "output_type": "stream",
     "text": [
      "area of triangle:  5273.4375\n"
     ]
    }
   ],
   "source": [
    "#input lengths of 3 sides of a triangle area\n",
    "a=int(input(\"Enter the value of a: \"))\n",
    "b=int(input(\"Enter the value of b: \"))\n",
    "c=int(input(\"Enter the value of c: \"))\n",
    "s=(a+b+c)/2\n",
    "area= s*(s-a)*(s-b)*(s-c)\n",
    "print(\"area of triangle: \",area)"
   ]
  },
  {
   "cell_type": "code",
   "execution_count": 65,
   "id": "d1abb399-3135-4ca7-be7d-f94a9340892d",
   "metadata": {},
   "outputs": [
    {
     "name": "stdin",
     "output_type": "stream",
     "text": [
      "enter fahrenhei_to_centigrade:  40\n"
     ]
    },
    {
     "name": "stdout",
     "output_type": "stream",
     "text": [
      "convert temperature in Fahrenheit into centigrad= 4.444444444444445 c\n"
     ]
    }
   ],
   "source": [
    "#convert temperature in Fahrenheit into centigrade\n",
    "f=float(input(\"enter fahrenhei_to_centigrade: \"))\n",
    "celcius=(5/9)*(f-32)\n",
    "print(\"convert temperature in Fahrenheit into centigrad=\",celcius,\"c\")"
   ]
  },
  {
   "cell_type": "code",
   "execution_count": 73,
   "id": "85b6cce4-7e78-489d-83ca-1b678ba3a55b",
   "metadata": {},
   "outputs": [
    {
     "name": "stdin",
     "output_type": "stream",
     "text": [
      "enter time in hours:  5\n",
      "enter time in minutes:  30\n",
      "enter time in seconds:  10\n"
     ]
    },
    {
     "name": "stdout",
     "output_type": "stream",
     "text": [
      "time in seconds 19810.0 sec\n"
     ]
    }
   ],
   "source": [
    "#Calculate time in seconds\n",
    "\n",
    "h=float(input(\"enter time in hours: \"))\n",
    "m=float(input(\"enter time in minutes: \"))\n",
    "s=float(input(\"enter time in seconds: \"))\n",
    "htos= h*3600\n",
    "mtos= m*60\n",
    "time=(htos+mtos+s)\n",
    "print(\"time in seconds\",time,\"sec\")\n"
   ]
  },
  {
   "cell_type": "code",
   "execution_count": 75,
   "id": "86858de2-2d94-43b4-80fb-4a0307a42b45",
   "metadata": {},
   "outputs": [
    {
     "name": "stdin",
     "output_type": "stream",
     "text": [
      "Enter height in feet:  5\n",
      "Enter height in feet:  11\n"
     ]
    },
    {
     "name": "stdout",
     "output_type": "stream",
     "text": [
      "height in centimetres=  180.34 cm\n"
     ]
    }
   ],
   "source": [
    "#corresponding height in centimetres\n",
    "height=float(input(\"Enter height in feet: \"))\n",
    "inches=float(input(\"Enter height in feet: \"))\n",
    "itoc= inches*2.54\n",
    "h=height*12*2.54\n",
    "total = h+itoc\n",
    "print(\"height in centimetres= \",total,\"cm\")"
   ]
  },
  {
   "cell_type": "code",
   "execution_count": null,
   "id": "6059dcda-9ac3-478e-b44a-c1e8c6f061a1",
   "metadata": {},
   "outputs": [],
   "source": []
  },
  {
   "cell_type": "code",
   "execution_count": null,
   "id": "18e88f6d-22fd-4adf-802e-6c4cd2619548",
   "metadata": {},
   "outputs": [],
   "source": []
  },
  {
   "cell_type": "code",
   "execution_count": null,
   "id": "18ae1069-2ffc-4049-8e92-3e617c82fed6",
   "metadata": {},
   "outputs": [],
   "source": []
  },
  {
   "cell_type": "code",
   "execution_count": null,
   "id": "aaa574e2-b600-4cd5-802b-6524e9ff0b2d",
   "metadata": {},
   "outputs": [],
   "source": []
  },
  {
   "cell_type": "code",
   "execution_count": null,
   "id": "40d94023-e40f-4a2c-a922-f7e8fc536e5d",
   "metadata": {},
   "outputs": [],
   "source": []
  },
  {
   "cell_type": "code",
   "execution_count": null,
   "id": "0e4c48b8-65e0-4b36-8cbc-4aafb91ff9a9",
   "metadata": {},
   "outputs": [],
   "source": []
  },
  {
   "cell_type": "code",
   "execution_count": null,
   "id": "f41ba73b-7b28-4a88-a86c-bba15c0a0393",
   "metadata": {},
   "outputs": [],
   "source": []
  },
  {
   "cell_type": "code",
   "execution_count": null,
   "id": "036d98f2-7db1-4cb5-99ed-bd52d2c7d72f",
   "metadata": {},
   "outputs": [],
   "source": []
  },
  {
   "cell_type": "code",
   "execution_count": null,
   "id": "9dc49a86-f1b5-4e86-a670-6074f9eae756",
   "metadata": {},
   "outputs": [],
   "source": []
  },
  {
   "cell_type": "code",
   "execution_count": null,
   "id": "6ad1bf80-91a9-4817-9d56-92d87e53a1b0",
   "metadata": {},
   "outputs": [],
   "source": []
  }
 ],
 "metadata": {
  "kernelspec": {
   "display_name": "Python 3 (ipykernel)",
   "language": "python",
   "name": "python3"
  },
  "language_info": {
   "codemirror_mode": {
    "name": "ipython",
    "version": 3
   },
   "file_extension": ".py",
   "mimetype": "text/x-python",
   "name": "python",
   "nbconvert_exporter": "python",
   "pygments_lexer": "ipython3",
   "version": "3.12.4"
  }
 },
 "nbformat": 4,
 "nbformat_minor": 5
}
