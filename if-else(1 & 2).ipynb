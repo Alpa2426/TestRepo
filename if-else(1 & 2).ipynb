{
 "cells": [
  {
   "cell_type": "code",
   "execution_count": 6,
   "id": "41d09d47",
   "metadata": {},
   "outputs": [
    {
     "name": "stdout",
     "output_type": "stream",
     "text": [
      "negative or zero\n"
     ]
    }
   ],
   "source": [
    "number= -8\n",
    "if number> 0:\n",
    "    print ('positive')\n",
    "else:\n",
    "    print ('negative or zero')"
   ]
  },
  {
   "cell_type": "code",
   "execution_count": 13,
   "id": "c6ca3302",
   "metadata": {},
   "outputs": [
    {
     "name": "stdout",
     "output_type": "stream",
     "text": [
      "8 is positive\n"
     ]
    }
   ],
   "source": [
    "number= 8\n",
    "if number  > 0:\n",
    "    print(number,\"is positive\")\n",
    "elif number <0:\n",
    "    print(number,\"negative or zero\")\n",
    "else:\n",
    "    print(\"zero\")"
   ]
  },
  {
   "cell_type": "code",
   "execution_count": 12,
   "id": "81ed4697",
   "metadata": {},
   "outputs": [
    {
     "name": "stdout",
     "output_type": "stream",
     "text": [
      "14\n",
      "14 is even number\n"
     ]
    }
   ],
   "source": [
    "number =int(input())\n",
    "if number%2 ==0:\n",
    "    print(number,\"is even number\")\n",
    "else:\n",
    "    print(number,\"odd\")"
   ]
  },
  {
   "cell_type": "code",
   "execution_count": 49,
   "id": "7e82a950",
   "metadata": {},
   "outputs": [
    {
     "name": "stdout",
     "output_type": "stream",
     "text": [
      "49\n",
      "49 is divisible by 7 number\n"
     ]
    }
   ],
   "source": [
    "#1 Check whether the number is divisible by 7\n",
    "number= int(input())\n",
    "if number%7 ==0:\n",
    "    print(number,\"is divisible by 7 number\")\n",
    "else:\n",
    "    print(number,\"is not divisible by 7 number\")"
   ]
  },
  {
   "cell_type": "code",
   "execution_count": 51,
   "id": "be4bd5d5",
   "metadata": {},
   "outputs": [
    {
     "name": "stdout",
     "output_type": "stream",
     "text": [
      " 'a' is not a string\n"
     ]
    }
   ],
   "source": [
    "#4. check whether 'a' is in 'Python' string or not\n",
    "string =\"python\"\n",
    "if 'a' in string:\n",
    "    print(\" 'a' in the string\")\n",
    "else:\n",
    "    print(\" 'a' is not a string\")"
   ]
  },
  {
   "cell_type": "code",
   "execution_count": 23,
   "id": "3d1bfbdd",
   "metadata": {},
   "outputs": [
    {
     "name": "stdout",
     "output_type": "stream",
     "text": [
      "enter a first number: 10\n",
      "enter a first number: 14\n",
      "enter a first number: 12\n",
      "the largest number is 14\n"
     ]
    }
   ],
   "source": [
    "#5 Find the largest number among three number with user input\n",
    "num1 =10\n",
    "num2 =14\n",
    "num3 =12\n",
    "num1 =int(input(\"enter a first number: \"))\n",
    "num2 =int(input(\"enter a first number: \"))\n",
    "num3 =int(input(\"enter a first number: \"))\n",
    "if (num1 > num2) and (num1 > num3):\n",
    "    largest=num1\n",
    "elif (num2 > num1)and (num2 >num3):\n",
    "    largest=num2\n",
    "else:\n",
    "    largest=num3\n",
    "print(\"the largest number is\", largest)"
   ]
  },
  {
   "cell_type": "code",
   "execution_count": 19,
   "id": "bc1327be",
   "metadata": {},
   "outputs": [
    {
     "name": "stdout",
     "output_type": "stream",
     "text": [
      "2024is a leap yeare.\n"
     ]
    }
   ],
   "source": [
    "#6 Check whether year is leap year or not\n",
    "year =2024\n",
    "if year % 4==0:\n",
    "    if year %100==0:\n",
    "        if year %400==0:\n",
    "            print(f\"{year}is a leap yeare.\")\n",
    "        else:\n",
    "            print(f\"{year}is not a leap yeare.\")\n",
    "    else:\n",
    "         print(f\"{year}is a leap yeare.\")\n",
    "else:\n",
    "     print(f\"{year}is not a leap yeare.\")\n",
    "        "
   ]
  },
  {
   "cell_type": "code",
   "execution_count": 25,
   "id": "aab2280b",
   "metadata": {},
   "outputs": [
    {
     "name": "stdout",
     "output_type": "stream",
     "text": [
      "enter the total numberof working day: 365\n",
      "enter the number of days for present: 290\n",
      "student will be able to sit in exam\n"
     ]
    }
   ],
   "source": [
    "#7. Accept the following from the user and calculate the percentage of class attended:\n",
    "#a.Total number of working days\n",
    "#b.Total number of days for present\n",
    "#After calculating percentage show that, If the percentage is less than 75, than student will not be able to sit in exam.\n",
    "num1 =int(input(\"enter the total numberof working day: \"))\n",
    "num2 =int(input(\"enter the number of days for present: \"))\n",
    "p=(num2/num1)*100\n",
    "if p<75:\n",
    "        print(\"student will not be able to sit in exam\")\n",
    "else:\n",
    "        print(\"student will be able to sit in exam\")\n"
   ]
  },
  {
   "cell_type": "code",
   "execution_count": 35,
   "id": "6cdda4ad",
   "metadata": {},
   "outputs": [
    {
     "name": "stdout",
     "output_type": "stream",
     "text": [
      "enter the letter,: 10\n",
      "consonant\n"
     ]
    }
   ],
   "source": [
    "#8 Check whether the letter is vowel or not\n",
    "vowel= ('a','e','i','o','u','A','E','I','O','U')\n",
    "letter= str(input(\"enter the letter,: \"))\n",
    "if letter in vowel:\n",
    "    print(\"the letter is vowel\")\n",
    "else:\n",
    "    print(\"consonant\")\n",
    "    \n"
   ]
  },
  {
   "cell_type": "code",
   "execution_count": 52,
   "id": "9dc18da8",
   "metadata": {},
   "outputs": [
    {
     "name": "stdout",
     "output_type": "stream",
     "text": [
      "enter the number: 4\n",
      "wednesday\n"
     ]
    }
   ],
   "source": [
    "#9 Write a program to accept the number from 1 to 7 and display the name of the day like 1 for sunday,2 for monday and so on.\n",
    "num=int(input(\"enter the number: \"))\n",
    "if num == 1 :\n",
    "    print(\"sunday\")\n",
    "elif num == 2 :\n",
    "    print(\"monday\")\n",
    "elif num == 3 :\n",
    "    print(\"tuesday\")\n",
    "elif num == 4 :\n",
    "    print(\"wednesday\")\n",
    "elif num == 5 :\n",
    "    print(\"thursday\")\n",
    "elif num == 6 :\n",
    "    print(\"friday\")\n",
    "elif num == 7 :\n",
    "    print(\"saturday\")\n",
    "else:\n",
    "    print(\"invalid number\")"
   ]
  },
  {
   "cell_type": "code",
   "execution_count": 46,
   "id": "ecf4473d",
   "metadata": {},
   "outputs": [
    {
     "name": "stdout",
     "output_type": "stream",
     "text": [
      "monument of that city,: delhi\n",
      "delhi is monument red fort\n"
     ]
    }
   ],
   "source": [
    "#10 Accept any city from the user and display monument of that city.\n",
    "#                 City                                 Monument\n",
    "#                 Delhi                               Red Fort\n",
    "#                 Agra                                Taj Mahal\n",
    "#                 Jaipur                              Jal Mahal\n",
    "\n",
    "city = input(\"monument of that city,: \")\n",
    "if city == \"delhi\":\n",
    "    print(\"delhi is monument red fort\")\n",
    "elif city == \"agra\":\n",
    "    print(\"agra is monument taj mahal\")\n",
    "elif city ==\"jaipur\":\n",
    "    print(\"jaipur is monument jal mahal\")\n",
    "else:\n",
    "    print(\"please enter the city name delhi,agra,jaipur,: \")"
   ]
  },
  {
   "cell_type": "code",
   "execution_count": 48,
   "id": "7f856b2e",
   "metadata": {},
   "outputs": [
    {
     "name": "stdout",
     "output_type": "stream",
     "text": [
      "enter age,: 17\n",
      "eligible not for voting\n"
     ]
    }
   ],
   "source": [
    "#11 Check whether the person is eligible for voting or not.\n",
    "age = int(input(\"enter age,: \"))\n",
    "if age >= 18:\n",
    "    print(\"eligible for voting\")\n",
    "else:\n",
    "    print(\"eligible not for voting\")\n",
    "    "
   ]
  },
  {
   "cell_type": "code",
   "execution_count": 54,
   "id": "2617c281",
   "metadata": {},
   "outputs": [
    {
     "name": "stdout",
     "output_type": "stream",
     "text": [
      "choose an operation:*\n",
      "enter the first number: 10\n",
      "enter the second number: 10\n",
      "100\n"
     ]
    }
   ],
   "source": [
    "#12 Make a simple calculator using input\n",
    "operation = str(input(\"choose an operation:\"))\n",
    "num1 = int(input(\"enter the first number: \"))\n",
    "num2 = int(input(\"enter the second number: \"))\n",
    "if operation == '+':\n",
    "    print(num1+num2)\n",
    "elif operation == '-':\n",
    "    print(num1-num2)\n",
    "elif operation == '*':\n",
    "    print(num1*num2)\n",
    "elif operation == '/':\n",
    "    print(num1/num2)\n",
    "else:\n",
    "    print(\"please enter the number\")\n",
    "    "
   ]
  },
  {
   "cell_type": "code",
   "execution_count": 50,
   "id": "2557ff75",
   "metadata": {},
   "outputs": [
    {
     "name": "stdout",
     "output_type": "stream",
     "text": [
      "enter the lenght,: 4\n",
      "enter the breadth,: 4\n",
      "the figure is a square\n"
     ]
    }
   ],
   "source": [
    "#13 Check whether the figure is square or not by giving length and breadth\n",
    "lenght = int(input(\"enter the lenght,: \"))\n",
    "breadth = int(input(\"enter the breadth,: \"))\n",
    "if lenght == breadth:\n",
    "    print(\"the figure is a square\")\n",
    "else:\n",
    "    print(\"the figure is not a square\")\n"
   ]
  },
  {
   "cell_type": "code",
   "execution_count": 58,
   "id": "63d7830f",
   "metadata": {},
   "outputs": [
    {
     "name": "stdout",
     "output_type": "stream",
     "text": [
      "enter the percentage,: 85\n",
      "grade A+\n"
     ]
    }
   ],
   "source": [
    "#11. Accept the percentage from the user and display the  grade according to the following criteria:\n",
    "#    Below 25 —- D\n",
    "#    25 to 45 —- C\n",
    "#    45 to 50 —- B\n",
    "#    50 to 60 –– B+\n",
    "#    60 to 80 —- A\n",
    "#    Above 80 –- A+\n",
    "\n",
    "percentage = int(input(\"enter the percentage,: \"))\n",
    "if percentage <25:\n",
    "    print(\"grade D\")\n",
    "elif 25 < percentage <45:\n",
    "    print(\"grade C\")\n",
    "elif 45 < percentage <50:\n",
    "    print(\"grade B\")\n",
    "elif 50 < percentage <60:\n",
    "    print(\"grade B+\")\n",
    "elif 60 < percentage <80:\n",
    "    print(\"grade A\")\n",
    "elif percentage >=80:\n",
    "    print(\"grade A+\")\n",
    "else:\n",
    "    print(\"please enter the grade\")"
   ]
  },
  {
   "cell_type": "code",
   "execution_count": 74,
   "id": "1d66c81b",
   "metadata": {},
   "outputs": [
    {
     "name": "stdout",
     "output_type": "stream",
     "text": [
      "the strings are anagrams\n"
     ]
    }
   ],
   "source": [
    "#12 Check if two strings are anagram or not. (care = race)\n",
    "str1 = \"care\"\n",
    "str2 = \"race\"\n",
    "\n",
    "len(str1) == len(str2)\n",
    "s1 = sorted(str1)\n",
    "s2 = sorted(str2)\n",
    "\n",
    "if(sorted(s1) == sorted(s2)):\n",
    "    print(\"the strings are anagrams\")\n",
    "else:\n",
    "    print(\"the strings aren't anagrams\" )"
   ]
  },
  {
   "cell_type": "code",
   "execution_count": 61,
   "id": "fbdd7a31",
   "metadata": {},
   "outputs": [
    {
     "name": "stdout",
     "output_type": "stream",
     "text": [
      "enter the value side1,: 5\n",
      "enter the value side2,: 6\n",
      "enter the value side3,: 6\n",
      "it is an isosceles\n"
     ]
    }
   ],
   "source": [
    "#13. Accept three sides of a triangle and check whether it is an equilateral, isosceles or scalene triangle.\n",
    "#Note :\n",
    "#An equilateral triangle is a triangle in which all three sides are equal.\n",
    "#A scalene triangle is a triangle that has three unequal sides.\n",
    "#An isosceles triangle is a triangle with (at least) two equal sides.\n",
    "\n",
    "side1 = int(input(\"enter the value side1,: \"))\n",
    "side2 = int(input(\"enter the value side2,: \"))\n",
    "side3 = int(input(\"enter the value side3,: \"))\n",
    "if side1 == side2 == side3:\n",
    "    print(\"it is an equilateral \")\n",
    "elif side1 != side2!= side3:\n",
    "    print(\"it is a scalene\")\n",
    "elif side1 == side2 or side1== side3 or side2 == side3:\n",
    "    print(\"it is an isosceles\")\n",
    "    "
   ]
  },
  {
   "cell_type": "code",
   "execution_count": 62,
   "id": "2334fb90",
   "metadata": {},
   "outputs": [
    {
     "name": "stdout",
     "output_type": "stream",
     "text": [
      "enter the value side1,: 10\n",
      "enter the value side2,: 20\n",
      "enter the value side3,: 30\n",
      "the triangle is possible \n"
     ]
    }
   ],
   "source": [
    "#14. Accept three sides of triangle and check whether the triangle is possible or not.\n",
    "#(triangle is possible only when sum of any two sides is greater than 3rd side)\n",
    "side1 = int(input(\"enter the value side1,: \"))\n",
    "side2 = int(input(\"enter the value side2,: \"))\n",
    "side3 = int(input(\"enter the value side3,: \"))\n",
    "if side1 + side2 > side3 or side1 + side3 > side2 or side2 +side3 > side1:\n",
    "    print(\"the triangle is possible \")\n",
    "else:\n",
    "    print(\"the triangle is  not possible \")\n"
   ]
  },
  {
   "cell_type": "code",
   "execution_count": 69,
   "id": "aaaefa69",
   "metadata": {},
   "outputs": [
    {
     "name": "stdout",
     "output_type": "stream",
     "text": [
      "enter the key,: name\n",
      "key is present in the dictionary\n"
     ]
    }
   ],
   "source": [
    "#15. Check whether the given key is present in the dictionary or not\n",
    "D =dict({\"name\":\"alpa\",\"age\":26,\"country\":\"india\",\"telephone\":123456})\n",
    "K =str(input(\"enter the key,: \"))\n",
    "if K in D:\n",
    "    print(\"key is present in the dictionary\")\n",
    "else:\n",
    "    print(\"key is not present in the dictionary\")\n"
   ]
  },
  {
   "cell_type": "code",
   "execution_count": 79,
   "id": "666f3144",
   "metadata": {},
   "outputs": [
    {
     "name": "stdout",
     "output_type": "stream",
     "text": [
      "enter the number,:246\n",
      "enterd number is a three digit number \n"
     ]
    }
   ],
   "source": [
    "#16. Write a program to check whether the number entered is three digit or not\n",
    "number= int(input(\"enter the number,:\"))\n",
    "if( number >99 and number <=999):\n",
    "    print(\"enterd number is a three digit number \")\n",
    "else:\n",
    "    print(\" enterd number is not a three digit number\")"
   ]
  },
  {
   "cell_type": "code",
   "execution_count": 103,
   "id": "9aa83605",
   "metadata": {},
   "outputs": [
    {
     "name": "stdout",
     "output_type": "stream",
     "text": [
      "enter the  electric units,: 450\n",
      "units\n",
      "total amount=  1150\n"
     ]
    }
   ],
   "source": [
    "#17. Accept the electric units from user and calculate the bill according to the following rates.\n",
    "\n",
    "#First 100 Units     :  Free\n",
    "#Next 200 Units      :  Rs 2 per unit.\n",
    "#Above 300 Units     :  Rs 5 per unit.\n",
    "\n",
    "#if number of unit is 500 then total bill = 0 +400 + 1000 = 1400\n",
    "\n",
    "units=int(input(\"enter the  electric units,: \"))\n",
    "if units <= 100:\n",
    "    bill_amount =0\n",
    "elif units > 100 and units <=300 :\n",
    "    bill_amount=(units - 100)*2\n",
    "else:\n",
    "    bill_amount= 0 + 400 +(units - 300) * 5\n",
    "    print(\"units\")\n",
    "    print(\"total amount= \", bill_amount)"
   ]
  },
  {
   "cell_type": "code",
   "execution_count": 108,
   "id": "17961771",
   "metadata": {},
   "outputs": [
    {
     "name": "stdout",
     "output_type": "stream",
     "text": [
      "enter thge age25\n",
      "enter the sexF\n",
      "Enter the number of days20\n",
      "person's age is: 25\n",
      "person's sex is: F\n",
      "person's wage is: 15000\n"
     ]
    }
   ],
   "source": [
    "#18. Accept the age, sex (‘M’, ‘F’), number of days and display the wages accordingly\n",
    "\n",
    "#    Age             Sex                 Wage/day\n",
    "#  >=18 and <30       M                   700\n",
    "#                     F                   750\n",
    "\n",
    "#  >=30 and <=40      M                   800\n",
    "#                     F                   850\n",
    "\n",
    "#Python if else\n",
    "#If age does not fall in any range then display the following message: “Enter appropriate age”\n",
    "\n",
    "age=int(input(\"enter thge age\"))\n",
    "sex= input(\"enter the sex\")\n",
    "days = int(input(\"Enter the number of days\"))\n",
    "\n",
    "if age>=18 and age <30:\n",
    "    if sex =='M':\n",
    "        wages = 700*days\n",
    "    elif sex == 'F':\n",
    "        wages = 750*days\n",
    "    else:\n",
    "        print(\"Enter appropriate Age\")\n",
    "elif age>= 30 and age <40:\n",
    "    if sex == 'M':\n",
    "        wages = 800*days\n",
    "        \n",
    "    elif sex == 'F':\n",
    "        wages = 850*days\n",
    "    else:\n",
    "        print(\"Enter appropriate age\")\n",
    "else :\n",
    "    print(\"Please enter Appropriate Age\")\n",
    "print(\"person's age is:\" , age)\n",
    "print(\"person's sex is:\" , sex)\n",
    "print(\"person's wage is:\" , wages)"
   ]
  },
  {
   "cell_type": "code",
   "execution_count": 110,
   "id": "35555843",
   "metadata": {},
   "outputs": [
    {
     "name": "stdout",
     "output_type": "stream",
     "text": [
      "enter the number,: 20\n",
      "enter the number,: 50\n",
      "enter the number,: 40\n",
      "n3 is the second largest number\n"
     ]
    }
   ],
   "source": [
    "#19. Accept three numbers from the user and display the second largest number.\n",
    "\n",
    "n1 = int(input(\"enter the number,: \"))\n",
    "n2 = int(input(\"enter the number,: \"))\n",
    "n3 = int(input(\"enter the number,: \"))\n",
    "if n1>n2>n3 or n3>n2>n1 :\n",
    "    print(\"n2 is the second largest number\")\n",
    "elif n3>n1>n2 or n2>n1>n3:\n",
    "    print(\"n1 is the second largest number\")\n",
    "else:\n",
    "    print(\"n3 is the second largest number\")\n",
    "   "
   ]
  },
  {
   "cell_type": "code",
   "execution_count": 113,
   "id": "2f882a79",
   "metadata": {},
   "outputs": [
    {
     "name": "stdout",
     "output_type": "stream",
     "text": [
      "enter the number of days,: 20\n",
      "the charge for library above fifteen days  100\n"
     ]
    }
   ],
   "source": [
    "#20. Accept the number of days from the user and calculate the charge for library according to following :\n",
    "\n",
    "# Till five days : Rs 2/day.\n",
    "# Six to ten days  : Rs 3/day.\n",
    "# 11 to 15 days  : Rs 4/day\n",
    "# After 15 days    : Rs 5/day\n",
    "\n",
    "days= int(input(\"enter the number of days,: \"))\n",
    "if days<=5:\n",
    "    amt = days * 2\n",
    "    print(\"the charge for library till five days \",amt)\n",
    "elif days>=6 and days<=10 :\n",
    "    amt = days * 3\n",
    "    print(\"the charge for library upto ten days \",amt)\n",
    "elif days>=11 and days<=15 :\n",
    "    amt = days * 4\n",
    "    print(\"the charge for library upto fifteen days \",amt)\n",
    "else:\n",
    "    amt = days *5\n",
    "    print(\"the charge for library above fifteen days \",amt)\n",
    "\n",
    "\n"
   ]
  },
  {
   "cell_type": "code",
   "execution_count": null,
   "id": "7aab63ce",
   "metadata": {},
   "outputs": [],
   "source": []
  },
  {
   "cell_type": "code",
   "execution_count": null,
   "id": "f502df2a",
   "metadata": {},
   "outputs": [],
   "source": []
  }
 ],
 "metadata": {
  "kernelspec": {
   "display_name": "Python 3 (ipykernel)",
   "language": "python",
   "name": "python3"
  },
  "language_info": {
   "codemirror_mode": {
    "name": "ipython",
    "version": 3
   },
   "file_extension": ".py",
   "mimetype": "text/x-python",
   "name": "python",
   "nbconvert_exporter": "python",
   "pygments_lexer": "ipython3",
   "version": "3.11.3"
  }
 },
 "nbformat": 4,
 "nbformat_minor": 5
}
