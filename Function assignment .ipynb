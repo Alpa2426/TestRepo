{
 "cells": [
  {
   "cell_type": "code",
   "execution_count": 3,
   "id": "5e4017a3-43f5-41ea-92e6-32bf24ff6795",
   "metadata": {},
   "outputs": [
    {
     "name": "stdout",
     "output_type": "stream",
     "text": [
      "15\n",
      "-5\n",
      "25\n",
      "0.25\n"
     ]
    }
   ],
   "source": [
    "#1. Make a calculator using function.\n",
    "def add(x, y):\n",
    "    return x + y\n",
    "def substract(x, y):\n",
    "    return x - y\n",
    "def multiply(x, y):\n",
    "    return x * y\n",
    "def divide(x, y):\n",
    "    return x / y\n",
    "\n",
    "print(add(5,10))\n",
    "print(substract(15,20))\n",
    "print(multiply(5,5))\n",
    "print(divide(5,20))\n"
   ]
  },
  {
   "cell_type": "code",
   "execution_count": 5,
   "id": "5dd5b14b-1ef5-43b8-834f-d5bc2f963c3a",
   "metadata": {},
   "outputs": [
    {
     "name": "stdout",
     "output_type": "stream",
     "text": [
      "30\n",
      "-15\n",
      "20\n",
      "5.0\n"
     ]
    }
   ],
   "source": [
    "#\n",
    "print(add(5,25))\n",
    "print(substract(15,30))\n",
    "print(multiply(4,5))\n",
    "print(divide(20,4))"
   ]
  },
  {
   "cell_type": "code",
   "execution_count": 25,
   "id": "b2b00f12-3344-46dd-b48e-81c81af53edf",
   "metadata": {},
   "outputs": [
    {
     "name": "stdout",
     "output_type": "stream",
     "text": [
      "0   1\n",
      "1   2\n",
      "3   3\n",
      "6   4\n",
      "10   5\n",
      "15   6\n",
      "21   7\n",
      "28   8\n",
      "36   9\n",
      "45   10\n",
      "55\n"
     ]
    }
   ],
   "source": [
    "#2. Calculate sum of first n numbers.\n",
    "def add(a,b):\n",
    "    s=(a+b)\n",
    "    return s\n",
    "\n",
    "\n",
    "def sum_of_n_natural_numbers(n):\n",
    "    sum = 0\n",
    "    for i in range(1,n+1):\n",
    "      print(sum,\" \",i)\n",
    "      sum += i\n",
    "    return sum   \n",
    " \n",
    "print(sum_of_n_natural_numbers(10))   "
   ]
  },
  {
   "cell_type": "code",
   "execution_count": 23,
   "id": "0b6a9ef6-f449-4b71-a6ae-72a31a6b9405",
   "metadata": {},
   "outputs": [
    {
     "data": {
      "text/plain": [
       "210"
      ]
     },
     "execution_count": 23,
     "metadata": {},
     "output_type": "execute_result"
    }
   ],
   "source": [
    "sum_of_n_natural_numbers(20)"
   ]
  },
  {
   "cell_type": "code",
   "execution_count": 62,
   "id": "8fae68aa-a164-4447-9773-f9ee8cfe888f",
   "metadata": {},
   "outputs": [
    {
     "name": "stdout",
     "output_type": "stream",
     "text": [
      "[1, 2, 3]\n"
     ]
    }
   ],
   "source": [
    "#3. Write a python function that takes a list and returns a new list with unique elements of the first list\n",
    "def unique_list(numbers):\n",
    "    unique = []\n",
    "    for i in numbers :\n",
    "        if i not in unique:\n",
    "            unique.append(i)\n",
    "    return unique\n",
    "\n",
    "print(unique_list([1, 2, 3, 1, 2]))"
   ]
  },
  {
   "cell_type": "code",
   "execution_count": 64,
   "id": "39c6e59b-81e2-42e7-b51f-16b0087387ea",
   "metadata": {},
   "outputs": [
    {
     "name": "stdout",
     "output_type": "stream",
     "text": [
      "[5, 9, 8, 7]\n"
     ]
    }
   ],
   "source": [
    "print(unique_list([5,9,8,7,5,9,8]))"
   ]
  },
  {
   "cell_type": "code",
   "execution_count": 35,
   "id": "76273330-45c6-496e-a1a9-139b5d2309f6",
   "metadata": {},
   "outputs": [
    {
     "name": "stdout",
     "output_type": "stream",
     "text": [
      "30\n",
      "25\n"
     ]
    }
   ],
   "source": [
    "#4. Find maximum and minimum number from two numbers using function\n",
    "def max(a,b):\n",
    "    if a > b :\n",
    "        return a\n",
    "    else:\n",
    "        return b\n",
    "\n",
    "print(max(25,30))\n",
    "\n",
    "def min(a,b):\n",
    "    if a < b :\n",
    "        return a\n",
    "    else:\n",
    "        return b\n",
    "\n",
    "print(min(25,30))        "
   ]
  },
  {
   "cell_type": "code",
   "execution_count": 41,
   "id": "b9cf2b66-b864-4d27-ac4e-a6d0cab7fb0c",
   "metadata": {},
   "outputs": [
    {
     "name": "stdout",
     "output_type": "stream",
     "text": [
      "Upper case letters:  2\n",
      "Lower case letters:  7\n"
     ]
    }
   ],
   "source": [
    "#5. Find the number of uppercases and lowercases letters in string\n",
    "def num(s):\n",
    "    upper_count = 0\n",
    "    lower_count = 0\n",
    "    for i in s:\n",
    "        if i.isupper():\n",
    "            upper_count += 1\n",
    "        elif i.islower():\n",
    "            lower_count += 1\n",
    "\n",
    "    print(\"Upper case letters: \",upper_count)\n",
    "    print(\"Lower case letters: \",lower_count)\n",
    "\n",
    "num(\"Alpa Tumma\")"
   ]
  },
  {
   "cell_type": "code",
   "execution_count": 76,
   "id": "fe32afcc-cc4c-4027-81ec-295dd0ef00ee",
   "metadata": {},
   "outputs": [
    {
     "name": "stdout",
     "output_type": "stream",
     "text": [
      "True\n",
      "False\n"
     ]
    }
   ],
   "source": [
    "#6. write a program to check number is prime or not\n",
    "def is_prime(n):\n",
    "  if n <= 1:\n",
    "    return False\n",
    "  for i in range(2,n):\n",
    "     if(n%i == 0):\n",
    "       return False\n",
    "  return True \n",
    "            \n",
    "print(is_prime(23)) \n",
    "print(is_prime(4)) "
   ]
  },
  {
   "cell_type": "code",
   "execution_count": 139,
   "id": "1b7e8f4a-a875-44d6-851a-69c096245035",
   "metadata": {},
   "outputs": [
    {
     "name": "stdin",
     "output_type": "stream",
     "text": [
      "Enter the exponent limit:  5\n"
     ]
    },
    {
     "name": "stdout",
     "output_type": "stream",
     "text": [
      "Powers of 2 from 2^0 to 2^5:\n",
      "2^0 = 1\n",
      "2^1 = 2\n",
      "2^2 = 4\n",
      "2^3 = 8\n",
      "2^4 = 16\n",
      "2^5 = 32\n"
     ]
    }
   ],
   "source": [
    "#7. Display the powers of 2 using anonymous functions\n",
    "n = int(input(\"Enter the exponent limit: \"))\n",
    "powers_of_2 = list(map(lambda x: 2 ** x, range(n + 1)))\n",
    "\n",
    "print(f\"Powers of 2 from 2^0 to 2^{n}:\")\n",
    "\n",
    "for i, power in enumerate(powers_of_2):\n",
    "    print(f\"2^{i} = {power}\")"
   ]
  },
  {
   "cell_type": "code",
   "execution_count": 90,
   "id": "9cf82bf2-15b5-4605-b4ca-c986ddf6d138",
   "metadata": {},
   "outputs": [
    {
     "name": "stdout",
     "output_type": "stream",
     "text": [
      "dict_keys(['k1', 'k2', 'k3', 'k4'])\n"
     ]
    },
    {
     "data": {
      "text/plain": [
       "False"
      ]
     },
     "execution_count": 90,
     "metadata": {},
     "output_type": "execute_result"
    }
   ],
   "source": [
    "#8 Write a function check(key) which takes a key as an argument and check whether that key is present in dictionary or not.\n",
    "dict = {'k1':'v1','k2':'v2','k3':'v3','k4':'v4'}\n",
    "\n",
    "print(dict.keys())\n",
    "\n",
    "def check(key):\n",
    "  if key in dict.keys():\n",
    "      return True\n",
    "  else :\n",
    "      return False\n",
    "\n",
    "check('k5')"
   ]
  },
  {
   "cell_type": "code",
   "execution_count": 92,
   "id": "715875d3-ed36-45f1-8a9a-6d471fcac752",
   "metadata": {},
   "outputs": [
    {
     "name": "stdout",
     "output_type": "stream",
     "text": [
      "4\n",
      "4\n"
     ]
    }
   ],
   "source": [
    "#9 Write the output of the following :\n",
    "def s(a):\n",
    "     print(a)\n",
    "     a = a +2\n",
    "n2=4\n",
    "s(n2)\n",
    "print(n2)"
   ]
  },
  {
   "cell_type": "code",
   "execution_count": 94,
   "id": "8191ced4-c9c7-43b9-8ebf-77c8ad0704f4",
   "metadata": {},
   "outputs": [
    {
     "name": "stdout",
     "output_type": "stream",
     "text": [
      "18\n"
     ]
    }
   ],
   "source": [
    "#10. Write the output of the following:\n",
    "def cal(m,n):\n",
    "     if m==n:\n",
    "          return m*3\n",
    "     else:\n",
    "          return m*2\n",
    "s = cal(9, 8)\n",
    "print(s)"
   ]
  },
  {
   "cell_type": "code",
   "execution_count": 105,
   "id": "e6803f1b-5b29-42de-bba5-80a34d894a81",
   "metadata": {},
   "outputs": [
    {
     "name": "stdout",
     "output_type": "stream",
     "text": [
      "5   2\n",
      " i  3\n",
      "3\n",
      "3   1\n",
      " i  1\n",
      "1\n"
     ]
    }
   ],
   "source": [
    "#11.Write the output of the following:\n",
    "def check():\n",
    "   i = 5\n",
    "   while i > 1:\n",
    "        print(i , \" \", i //2)\n",
    "        if i //2==0:\n",
    "              x = i + 2\n",
    "              i = i-1\n",
    "        else:\n",
    "             i = i-2\n",
    "             x = i\n",
    "             print(\" i \" , i)\n",
    "        print (x)\n",
    "check()\n"
   ]
  },
  {
   "cell_type": "code",
   "execution_count": 112,
   "id": "8a44345c-c159-47a8-8eba-2440eca5c66f",
   "metadata": {},
   "outputs": [
    {
     "name": "stdout",
     "output_type": "stream",
     "text": [
      "3 5 5 "
     ]
    }
   ],
   "source": [
    "#12. What will be the output of the following code?\n",
    "x = 3\n",
    "def myfunc():\n",
    "      global x\n",
    "      x+=2\n",
    "      print(x, end=' ')\n",
    "print(x, end=' ')\n",
    "myfunc()\n",
    "print(x, end=' ')"
   ]
  },
  {
   "cell_type": "code",
   "execution_count": 117,
   "id": "56f6b758-3a48-45cf-9e88-acf144435732",
   "metadata": {},
   "outputs": [
    {
     "name": "stdout",
     "output_type": "stream",
     "text": [
      "50#5\n"
     ]
    }
   ],
   "source": [
    "#13. What will be the output of the following code?\n",
    "value = 50\n",
    "def display(N):\n",
    "     global value\n",
    "     value = 25\n",
    "     if N%7==0:\n",
    "           value = value + N\n",
    "     else:\n",
    "           value = value - N\n",
    "print(value, end=\"#\")\n",
    "display(20)\n",
    "print(value)"
   ]
  },
  {
   "cell_type": "code",
   "execution_count": 119,
   "id": "d5d4d42a-1a76-4e99-9a85-794648e4a7f4",
   "metadata": {},
   "outputs": [
    {
     "name": "stdout",
     "output_type": "stream",
     "text": [
      "5#8#5#4#"
     ]
    }
   ],
   "source": [
    "#14. What is the output of the following code snippet?\n",
    "def ChangeVal(M,N):\n",
    "     for i in range(N):\n",
    "          if M[i]%5 == 0:\n",
    "               M[i]//=5\n",
    "          if M[i]%3 == 0:\n",
    "               M[i]//=3\n",
    "L = [25,8,75,12]\n",
    "ChangeVal(L,4)\n",
    "for i in L:\n",
    "     print(i,end=\"#\")\n"
   ]
  },
  {
   "cell_type": "code",
   "execution_count": 135,
   "id": "bcfb6382-afa7-4ceb-82f3-acb06fff6dc8",
   "metadata": {},
   "outputs": [
    {
     "name": "stdout",
     "output_type": "stream",
     "text": [
      "15\n",
      "Yes\n"
     ]
    }
   ],
   "source": [
    "#15. Write the output of the following:\n",
    "def c(x, y):\n",
    "    if x % y :\n",
    "         return x+5\n",
    "    else:\n",
    "        return y+10\n",
    "print(c(20, 5))\n",
    "\n",
    "if 20%5 == 0:\n",
    "    print('Yes')"
   ]
  },
  {
   "cell_type": "code",
   "execution_count": 7,
   "id": "41b1278d-f75b-4b60-aa8b-9c5b1007eb1c",
   "metadata": {},
   "outputs": [
    {
     "name": "stdout",
     "output_type": "stream",
     "text": [
      "Reverse Number =  6457\n"
     ]
    }
   ],
   "source": [
    "#wap to reverse a number\n",
    "#input -: 7546\n",
    "#ouput -: 6457\n",
    "def reverse_number(n):\n",
    "    p = n\n",
    "    reverse = 0\n",
    "    while n != 0:\n",
    "        remainder = n%10\n",
    "        reverse=reverse * 10+ remainder\n",
    "        n = n//10\n",
    "    print(\"Reverse Number = \",reverse)\n",
    "reverse_number(7546)"
   ]
  },
  {
   "cell_type": "code",
   "execution_count": 32,
   "id": "bbb44dff-ba90-4811-a15e-bbd7326a488d",
   "metadata": {},
   "outputs": [
    {
     "name": "stdout",
     "output_type": "stream",
     "text": [
      "palindrome\n"
     ]
    }
   ],
   "source": [
    "#WAP to check whether the given number is palindrome or not\n",
    "def palindrome(n):\n",
    "    p = n\n",
    "    reverse = 0\n",
    "    while n>0:\n",
    "        remainder = n%10\n",
    "        reverse=reverse * 10+ remainder\n",
    "        n = n//10\n",
    "    if reverse  == p:\n",
    "        print(\"palindrome\")\n",
    "    else:\n",
    "        print(\" not palindrome\")   \n",
    "palindrome(12321)        "
   ]
  },
  {
   "cell_type": "code",
   "execution_count": 34,
   "id": "962fc522-3c80-4e04-9e41-385eeea40253",
   "metadata": {},
   "outputs": [
    {
     "name": "stdout",
     "output_type": "stream",
     "text": [
      "not armstrong\n"
     ]
    }
   ],
   "source": [
    "#WAP to check whether the given number is armstrong or not\n",
    "def armstrong(n):\n",
    "    p =n\n",
    "    armstrong=0\n",
    "    while n!=0:\n",
    "        remainder = n%10\n",
    "        armstrong=armstrong+remainder**3\n",
    "        n = n//10\n",
    "    if p==armstrong:\n",
    "        print(\"armstrong\")\n",
    "    else:\n",
    "        print(\"not armstrong\")\n",
    "armstrong(546)"
   ]
  },
  {
   "cell_type": "code",
   "execution_count": 40,
   "id": "6dda97c5-252a-4e63-828c-b0408ece6a00",
   "metadata": {},
   "outputs": [
    {
     "name": "stdout",
     "output_type": "stream",
     "text": [
      "not strong\n"
     ]
    }
   ],
   "source": [
    "#WAP to check whether the given number is Strong or not\n",
    "def strong(n):\n",
    "    p=n\n",
    "    strong=0\n",
    "    while n!=0:\n",
    "        remainder=n%10\n",
    "        f=1\n",
    "        for i in range (1,remainder +1):\n",
    "            f=f*i\n",
    "        strong =strong + f\n",
    "        n =n//10\n",
    "    if strong == p:\n",
    "        print(\"strong\")\n",
    "    else:\n",
    "        print(\"not strong\")\n",
    "strong(124)"
   ]
  },
  {
   "cell_type": "code",
   "execution_count": 45,
   "id": "d54656a2-39a5-4153-aa00-c1288ca999dd",
   "metadata": {},
   "outputs": [
    {
     "name": "stdout",
     "output_type": "stream",
     "text": [
      "not Neon\n"
     ]
    }
   ],
   "source": [
    "#WAP to check whether the given number is Neon or not\n",
    "def Neon(n):\n",
    "    square=n**2\n",
    "    Neon=0\n",
    "    while square !=0:\n",
    "        remainder = square%10\n",
    "        Neon += remainder\n",
    "        square = square//10\n",
    "    if n == Neon:\n",
    "        print(\"Neon\")\n",
    "    else:\n",
    "        print(\"not Neon\")\n",
    "Neon(24)    "
   ]
  },
  {
   "cell_type": "code",
   "execution_count": 47,
   "id": "7cccbf34-ee96-4eaf-a60c-99c880c5187a",
   "metadata": {},
   "outputs": [
    {
     "name": "stdout",
     "output_type": "stream",
     "text": [
      "The number is not a Perfect number\n"
     ]
    }
   ],
   "source": [
    "#WAP to check whether the given number is perfect or not\n",
    "def perfect(n):\n",
    "    p = 0\n",
    "    for i in range(1,n):\n",
    "        if n % i == 0:\n",
    "            p =p+i\n",
    "    if p==n:\n",
    "         print(\"The number is a Perfect number\")\n",
    "    else:\n",
    "         print(\"The number is not a Perfect number\")\n",
    "perfect(7)"
   ]
  },
  {
   "cell_type": "code",
   "execution_count": null,
   "id": "452fab34-0d94-4444-81b2-eb1e63419811",
   "metadata": {},
   "outputs": [],
   "source": []
  },
  {
   "cell_type": "code",
   "execution_count": null,
   "id": "fc764193-59b8-4c06-9dcc-6945e5340235",
   "metadata": {},
   "outputs": [],
   "source": []
  }
 ],
 "metadata": {
  "kernelspec": {
   "display_name": "Python 3 (ipykernel)",
   "language": "python",
   "name": "python3"
  },
  "language_info": {
   "codemirror_mode": {
    "name": "ipython",
    "version": 3
   },
   "file_extension": ".py",
   "mimetype": "text/x-python",
   "name": "python",
   "nbconvert_exporter": "python",
   "pygments_lexer": "ipython3",
   "version": "3.12.4"
  }
 },
 "nbformat": 4,
 "nbformat_minor": 5
}
