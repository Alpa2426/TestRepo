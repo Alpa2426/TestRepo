{
 "cells": [
  {
   "cell_type": "code",
   "execution_count": 5,
   "id": "7f4be65e-7497-4e3f-8650-7f43eae77740",
   "metadata": {},
   "outputs": [
    {
     "name": "stdout",
     "output_type": "stream",
     "text": [
      "['alpa', '26', 'commerce', 'surat']\n"
     ]
    }
   ],
   "source": [
    "#Create list of your name,age, field ,location using [] and list constructor\n",
    "my_list =[\"alpa\",\"26\",\"commerce\",\"surat\"]\n",
    "print (my_list)"
   ]
  },
  {
   "cell_type": "code",
   "execution_count": 7,
   "id": "0f9944c8-09ad-4688-be0c-d4434922b066",
   "metadata": {},
   "outputs": [
    {
     "name": "stdout",
     "output_type": "stream",
     "text": [
      "commerce\n"
     ]
    },
    {
     "data": {
      "text/plain": [
       "'commerce'"
      ]
     },
     "execution_count": 7,
     "metadata": {},
     "output_type": "execute_result"
    }
   ],
   "source": [
    "#print only your field using index method\n",
    "my_list =[\"alpa\",\"26\",\"commerce\",\"surat\"]\n",
    "print(my_list[2])\n",
    "my_list[2]"
   ]
  },
  {
   "cell_type": "code",
   "execution_count": 65,
   "id": "aeb6d9f6-32aa-451b-8964-f12cc1881529",
   "metadata": {},
   "outputs": [
    {
     "data": {
      "text/plain": [
       "3"
      ]
     },
     "execution_count": 65,
     "metadata": {},
     "output_type": "execute_result"
    }
   ],
   "source": [
    "#print the position of location element\n",
    "my_list =[\"alpa\",\"26\",\"commerce\",\"surat\"]\n",
    "my_list.index(\"surat\")"
   ]
  },
  {
   "cell_type": "code",
   "execution_count": 69,
   "id": "f0ecb829-0f14-4a5c-8e48-9e13c50cce5d",
   "metadata": {},
   "outputs": [
    {
     "name": "stdout",
     "output_type": "stream",
     "text": [
      "['commerce']\n"
     ]
    }
   ],
   "source": [
    "#element btw age and locaton ,using backward slicing\n",
    "my_list =[\"alpa\",\"26\",\"commerce\",\"surat\"]\n",
    "print(my_list[-2:-1])"
   ]
  },
  {
   "cell_type": "code",
   "execution_count": 63,
   "id": "7f29fc6c-c3ad-47af-bd4a-9f992db048bd",
   "metadata": {},
   "outputs": [
    {
     "name": "stdout",
     "output_type": "stream",
     "text": [
      "['commerce']\n"
     ]
    }
   ],
   "source": [
    "#element btw age and locaton ,using forward slicing\n",
    "my_list =[\"alpa\",\"26\",\"commerce\",\"surat\"]\n",
    "print(my_list[2:3])"
   ]
  },
  {
   "cell_type": "code",
   "execution_count": 21,
   "id": "f105d126-2fcc-4de0-9fdf-10539be69307",
   "metadata": {},
   "outputs": [
    {
     "name": "stdout",
     "output_type": "stream",
     "text": [
      "['guntuk', '26', 'commerce', 'surat']\n"
     ]
    }
   ],
   "source": [
    "#replace the element of name with surname\n",
    "my_list =[\"alpa\",\"26\",\"commerce\",\"surat\"]\n",
    "my_list[0] =\"guntuk\"\n",
    "print(my_list)"
   ]
  },
  {
   "cell_type": "code",
   "execution_count": 71,
   "id": "26d8098f-5d10-4418-b4b1-1c4dc5326b00",
   "metadata": {},
   "outputs": [
    {
     "name": "stdout",
     "output_type": "stream",
     "text": [
      "['develearn', 'surat']\n"
     ]
    }
   ],
   "source": [
    "#replace the element of name ,age and field\n",
    "my_list =[\"alpa\",\"26\",\"commerce\",\"surat\"]\n",
    "my_list[0:3]=[\"develearn\"]\n",
    "print(my_list)"
   ]
  },
  {
   "cell_type": "code",
   "execution_count": 64,
   "id": "5ce34fd6-96d9-4e1d-b93b-a6b707cacd35",
   "metadata": {},
   "outputs": [
    {
     "name": "stdout",
     "output_type": "stream",
     "text": [
      "['guntuk', 'commerce', 'surat']\n"
     ]
    }
   ],
   "source": [
    "#replace the element of name,age with only surname\n",
    "my_list =[\"alpa\",\"26\",\"commerce\",\"surat\"]\n",
    "my_list[0:2]= [\"guntuk\"]\n",
    "print(my_list)"
   ]
  },
  {
   "cell_type": "code",
   "execution_count": 33,
   "id": "dab66320-43a7-48cd-ab6d-652cc2b8a34d",
   "metadata": {},
   "outputs": [
    {
     "name": "stdout",
     "output_type": "stream",
     "text": [
      "['alpa guntuk', '26', 'commerce', 'surat']\n"
     ]
    }
   ],
   "source": [
    "#replace the element of name with your nickname and surname'\n",
    "my_list =[\"alpa\",\"26\",\"commerce\",\"surat\"]\n",
    "my_list[0]=\"alpa guntuk\"\n",
    "print(my_list)"
   ]
  },
  {
   "cell_type": "code",
   "execution_count": 72,
   "id": "075acc88-390d-483f-ae41-62b3133fd9ef",
   "metadata": {},
   "outputs": [
    {
     "name": "stdout",
     "output_type": "stream",
     "text": [
      "['alpa', 'Guntuk', '26', 'commerce', 'surat']\n"
     ]
    }
   ],
   "source": [
    "#add your surname in the list after your first name\n",
    "my_list =[\"alpa\",\"26\",\"commerce\",\"surat\"]\n",
    "my_list.insert(1,'Guntuk')\n",
    "print(my_list)"
   ]
  },
  {
   "cell_type": "code",
   "execution_count": 84,
   "id": "280f2e43-c819-4995-a7e7-494f97107308",
   "metadata": {},
   "outputs": [
    {
     "name": "stdout",
     "output_type": "stream",
     "text": [
      "['alpa', '26', 'commerce', 'surat', 'travelling']\n"
     ]
    }
   ],
   "source": [
    "#add your only one hobby at the end of the list\n",
    "my_list =[\"alpa\",\"26\",\"commerce\",\"surat\"]\n",
    "my_list.append ('travelling')\n",
    "print(my_list)"
   ]
  },
  {
   "cell_type": "code",
   "execution_count": 94,
   "id": "07d639d3-89fb-4334-8216-eb5a977a5244",
   "metadata": {},
   "outputs": [
    {
     "name": "stdout",
     "output_type": "stream",
     "text": [
      "['alpa', '26', 'commerce', 'surat', 'travelling', 'dance', 'listing music']\n"
     ]
    }
   ],
   "source": [
    "#add your n-numbers of hobbies at the end of list\n",
    "my_list =[\"alpa\",\"26\",\"commerce\",\"surat\"]\n",
    "my_list.extend (['travelling','dance','listing music'])\n",
    "print(my_list)"
   ]
  },
  {
   "cell_type": "code",
   "execution_count": 96,
   "id": "e558e2df-1b6f-4406-a506-1016cf1a69c9",
   "metadata": {},
   "outputs": [
    {
     "name": "stdout",
     "output_type": "stream",
     "text": [
      "['alpa', '26', 'commerce']\n"
     ]
    }
   ],
   "source": [
    "#remove your location from list\n",
    "my_list =[\"alpa\",\"26\",\"commerce\",\"surat\"]\n",
    "my_list.remove(\"surat\")\n",
    "print(my_list)"
   ]
  },
  {
   "cell_type": "code",
   "execution_count": 98,
   "id": "a424ec33-4980-4c1d-af61-1a6d9a546b9d",
   "metadata": {},
   "outputs": [
    {
     "name": "stdout",
     "output_type": "stream",
     "text": [
      "['alpa', 'commerce', 'surat']\n"
     ]
    }
   ],
   "source": [
    "#remove your age from list[using 2 methods]\n",
    "my_list =[\"alpa\",\"26\",\"commerce\",\"surat\"]\n",
    "my_list.remove(\"26\")\n",
    "print(my_list)"
   ]
  },
  {
   "cell_type": "code",
   "execution_count": 102,
   "id": "842075c0-f202-4674-8350-fb133899b4bb",
   "metadata": {},
   "outputs": [
    {
     "name": "stdout",
     "output_type": "stream",
     "text": [
      "['alpa', 'commerce', 'surat']\n"
     ]
    }
   ],
   "source": [
    "#using 2 methods\n",
    "my_list =[\"alpa\",\"26\",\"commerce\",\"surat\"]\n",
    "my_list.pop(1)\n",
    "print(my_list)"
   ]
  },
  {
   "cell_type": "code",
   "execution_count": 106,
   "id": "85793153-ac57-4900-a0ed-7b43fa28d1f9",
   "metadata": {},
   "outputs": [
    {
     "name": "stdout",
     "output_type": "stream",
     "text": [
      "['alpa', '26', 'commerce']\n"
     ]
    }
   ],
   "source": [
    "#remove last element from the list\n",
    "my_list =[\"alpa\",\"26\",\"commerce\",\"surat\"]\n",
    "my_list.pop()\n",
    "print(my_list)"
   ]
  },
  {
   "cell_type": "code",
   "execution_count": 108,
   "id": "1b96f116-10b0-4628-ab2a-511dd9f2f6e8",
   "metadata": {},
   "outputs": [
    {
     "name": "stdout",
     "output_type": "stream",
     "text": [
      "[]\n"
     ]
    }
   ],
   "source": [
    "#remove all element from the list(empty)\n",
    "my_list =[\"alpa\",\"26\",\"commerce\",\"surat\"]\n",
    "my_list.clear()\n",
    "print(my_list)"
   ]
  },
  {
   "cell_type": "code",
   "execution_count": 79,
   "id": "3b6d2f68-0b60-476a-b264-126b51b8b447",
   "metadata": {},
   "outputs": [
    {
     "ename": "NameError",
     "evalue": "name 'delmy_list' is not defined",
     "output_type": "error",
     "traceback": [
      "\u001b[1;31m---------------------------------------------------------------------------\u001b[0m",
      "\u001b[1;31mNameError\u001b[0m                                 Traceback (most recent call last)",
      "Cell \u001b[1;32mIn[79], line 2\u001b[0m\n\u001b[0;32m      1\u001b[0m my_list \u001b[38;5;241m=\u001b[39m([\u001b[38;5;124m\"\u001b[39m\u001b[38;5;124malpa\u001b[39m\u001b[38;5;124m\"\u001b[39m,\u001b[38;5;124m\"\u001b[39m\u001b[38;5;124m26\u001b[39m\u001b[38;5;124m\"\u001b[39m,\u001b[38;5;124m\"\u001b[39m\u001b[38;5;124mcommerce\u001b[39m\u001b[38;5;124m\"\u001b[39m,\u001b[38;5;124m\"\u001b[39m\u001b[38;5;124msurat\u001b[39m\u001b[38;5;124m\"\u001b[39m])\n\u001b[1;32m----> 2\u001b[0m delmy_list\n\u001b[0;32m      3\u001b[0m \u001b[38;5;28mprint\u001b[39m(my_list)\n",
      "\u001b[1;31mNameError\u001b[0m: name 'delmy_list' is not defined"
     ]
    }
   ],
   "source": [
    "#delete the list\n",
    "my_list =([\"alpa\",\"26\",\"commerce\",\"surat\"])my_list\n",
    "print(my_list)"
   ]
  },
  {
   "cell_type": "code",
   "execution_count": 53,
   "id": "10cab567-cb12-4035-8c34-0c16f6914096",
   "metadata": {},
   "outputs": [
    {
     "name": "stdout",
     "output_type": "stream",
     "text": [
      "Ascending order  ::  [2, 5, 7, 12, 18]\n",
      "Descending order  ::  [18, 12, 7, 5, 2]\n"
     ]
    }
   ],
   "source": [
    "#create a list of 5,2,18,7,12 and print in ascending and descending order\n",
    "my_list = [5,2,18,7,12]\n",
    "my_list.sort()\n",
    "print(\"Ascending order  :: \",my_list)\n",
    "my_list.sort(reverse=True)\n",
    "print(\"Descending order  :: \",my_list)"
   ]
  },
  {
   "cell_type": "code",
   "execution_count": 85,
   "id": "9d7ff2fc-6956-4a94-9302-6457b82adc08",
   "metadata": {},
   "outputs": [
    {
     "data": {
      "text/plain": [
       "[5, 2, 18, 7, 12, 90, 92, 98, 97, 91]"
      ]
     },
     "execution_count": 85,
     "metadata": {},
     "output_type": "execute_result"
    }
   ],
   "source": [
    "# merge two list\n",
    "my_list = [5,2,18,7,12]\n",
    "my_list1 = [90,92,98,97,91]\n",
    "my_list.extend(my_list1)\n",
    "my_list"
   ]
  },
  {
   "cell_type": "code",
   "execution_count": 83,
   "id": "f71ead54-6e87-4522-a34a-6bdf07b8f6d3",
   "metadata": {},
   "outputs": [
    {
     "name": "stdout",
     "output_type": "stream",
     "text": [
      "8\n"
     ]
    }
   ],
   "source": [
    "#create a list of prime numbers till 20 and find the length of it\n",
    "prime=[2,3,5,7,11,13,17,19]\n",
    "print(len(prime))\n"
   ]
  },
  {
   "cell_type": "code",
   "execution_count": 89,
   "id": "eac92ba2-fe21-42b5-a14b-82d073738150",
   "metadata": {},
   "outputs": [
    {
     "name": "stdout",
     "output_type": "stream",
     "text": [
      "[2, 4, 6, 8, 9]\n"
     ]
    }
   ],
   "source": [
    "#make a deep copy of list and check whether it is copying deeply or not\n",
    "li=[2,4,6,8,9]\n",
    "print(li)"
   ]
  },
  {
   "cell_type": "code",
   "execution_count": 95,
   "id": "9884ce2c-1e51-4484-bd5e-1c56d52258a3",
   "metadata": {},
   "outputs": [
    {
     "name": "stdout",
     "output_type": "stream",
     "text": [
      "[2, 4, 6, 8, 9]\n",
      "[2, 4, 6, 8, 9]\n"
     ]
    }
   ],
   "source": [
    "lcopy=li\n",
    "print(l2.copy)()\n",
    "print(l2)"
   ]
  },
  {
   "cell_type": "code",
   "execution_count": 109,
   "id": "998266c1-e91e-450b-be28-7d2005998e02",
   "metadata": {},
   "outputs": [
    {
     "name": "stdout",
     "output_type": "stream",
     "text": [
      "[1, 3, 5, 7, 10]\n",
      "[1, 3, 5, 7, 10]\n"
     ]
    }
   ],
   "source": [
    "#make a copy of list in that way  making changes in one list will not affect to the another list \n",
    "l2=[1,3,5,7,10]\n",
    "l2copy= l2.copy()\n",
    "print(l2copy)\n",
    "print(l2)"
   ]
  },
  {
   "cell_type": "code",
   "execution_count": 113,
   "id": "97e54fea-90a2-4f5f-8121-268155191a83",
   "metadata": {},
   "outputs": [
    {
     "name": "stdout",
     "output_type": "stream",
     "text": [
      "[1, 3, 5, 7, 10, 5]\n",
      "[1, 3, 5, 7, 10]\n"
     ]
    }
   ],
   "source": [
    "l2.append(5)\n",
    "print(l2)\n",
    "print(l2copy)"
   ]
  },
  {
   "cell_type": "code",
   "execution_count": 121,
   "id": "2f269db7-0af1-46d3-8c7b-2b226ee4e88a",
   "metadata": {},
   "outputs": [
    {
     "name": "stdout",
     "output_type": "stream",
     "text": [
      "[(24, 'alpa', 26, 21)]\n"
     ]
    }
   ],
   "source": [
    "#zip four list contain with natural number your name,age, rollno\n",
    "natural_number=[24]\n",
    "name= [\"alpa\"]\n",
    "age=[26]\n",
    "rollno= [21]\n",
    "my_list=zip(natural_number,name,age,rollno)\n",
    "my_list=list(my_list)\n",
    "print(my_list)"
   ]
  },
  {
   "cell_type": "code",
   "execution_count": 127,
   "id": "ea232568-c135-42d8-a29d-de2eb5dcdde6",
   "metadata": {},
   "outputs": [
    {
     "name": "stdout",
     "output_type": "stream",
     "text": [
      "(24,)\n",
      "('alpa',)\n",
      "(26,)\n",
      "(21,)\n"
     ]
    }
   ],
   "source": [
    "#unzip the above list\n",
    "natural_number,name,age, rollno=zip(*my_list)\n",
    "print(natural_number)\n",
    "print(name)\n",
    "print(age)\n",
    "print(rollno)\n"
   ]
  },
  {
   "cell_type": "code",
   "execution_count": null,
   "id": "2f518191-c820-4e22-9d82-e5cdc86a0048",
   "metadata": {},
   "outputs": [],
   "source": []
  }
 ],
 "metadata": {
  "kernelspec": {
   "display_name": "Python 3 (ipykernel)",
   "language": "python",
   "name": "python3"
  },
  "language_info": {
   "codemirror_mode": {
    "name": "ipython",
    "version": 3
   },
   "file_extension": ".py",
   "mimetype": "text/x-python",
   "name": "python",
   "nbconvert_exporter": "python",
   "pygments_lexer": "ipython3",
   "version": "3.12.4"
  }
 },
 "nbformat": 4,
 "nbformat_minor": 5
}
